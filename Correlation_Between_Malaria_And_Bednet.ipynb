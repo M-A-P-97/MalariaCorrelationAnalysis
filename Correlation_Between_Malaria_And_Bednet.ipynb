{
  "nbformat": 4,
  "nbformat_minor": 0,
  "metadata": {
    "colab": {
      "name": "Correlation_Between_Malaria_And_Bednet.ipynb",
      "provenance": [],
      "collapsed_sections": [],
      "toc_visible": true
    },
    "kernelspec": {
      "name": "python3",
      "display_name": "Python 3"
    }
  },
  "cells": [
    {
      "cell_type": "markdown",
      "metadata": {
        "id": "1QVHCBI6oprX",
        "colab_type": "text"
      },
      "source": [
        "# The Correlation between Malaria and Insecticide treated mosquito nets in Kenya.\n",
        "**Research Question**\n",
        "\n",
        "Is there a correlation between health spending on Malaria, usage of insecticide treated bednets and reported presentation of malaria symtomps cases in the different counties in Kenya.\n",
        "\n",
        "Question for consideration:\n",
        "\n",
        "\n",
        "*   Which county had the highest percentage of its population sleeping under an insecticide treated mosquito net.\n",
        "*   Which county has the least percentage of population sleeping under an insecticide treated mosquito net.\n",
        "\n",
        "\n",
        "*   The county with highest percentage presenting symptoms .. is it the same county with the least mosquito net usage\n",
        "*   The county with the least percentage presenting symptoms ..is it the same county with the highest bednet usage.\n",
        "\n",
        "*   Top 5 Counties that are least in need of insecticide treated bednets.\n",
        "\n",
        "\n",
        "*   Getting the county with the highest health spending per person.\n",
        "*   Calculating the average health spending in Kenya\n",
        "\n",
        "\n",
        "*   Counties that spend below the averge of health spending in Kenya.\n",
        "*   Counties that spend above the averge of health spending in Kenya.\n",
        "\n",
        "**Dataset Provided**\n",
        "\n",
        "The dataset was sourced from the site **Kenya Open Data**\n",
        "\n",
        "*   Health spending per capita by counties [[Link](https://www.opendata.go.ke/datasets/health-spending-per-capita-by-county/data)]\n",
        "\n",
        "\n",
        "\n",
        "\n",
        "\n",
        "\n",
        "\n",
        "\n",
        "\n",
        "\n",
        "\n",
        "\n",
        "\n",
        "\n",
        "\n",
        "\n",
        "\n",
        "\n",
        "\n",
        "\n"
      ]
    },
    {
      "cell_type": "markdown",
      "metadata": {
        "id": "nR341NRdqA-g",
        "colab_type": "text"
      },
      "source": [
        "### Importing the libraries."
      ]
    },
    {
      "cell_type": "code",
      "metadata": {
        "id": "ebGhPw_uqQTL",
        "colab_type": "code",
        "colab": {}
      },
      "source": [
        "# Import the dataset.\n",
        "import numpy as np \n",
        "import pandas as pd\n"
      ],
      "execution_count": 0,
      "outputs": []
    },
    {
      "cell_type": "markdown",
      "metadata": {
        "id": "5JVLdil6qlbo",
        "colab_type": "text"
      },
      "source": [
        "### Loading the Dataset."
      ]
    },
    {
      "cell_type": "code",
      "metadata": {
        "id": "arm57J-Aqki1",
        "colab_type": "code",
        "outputId": "52e9d308-d2cb-41ab-8f0f-19bd34a8a7cc",
        "colab": {
          "base_uri": "https://localhost:8080/",
          "height": 1000
        }
      },
      "source": [
        "# The dataframe for the malaria dataset.\n",
        "df = pd.read_csv('Health_Spending_Per_Capita_By_County.csv')\n",
        "df"
      ],
      "execution_count": 0,
      "outputs": [
        {
          "output_type": "execute_result",
          "data": {
            "text/html": [
              "<div>\n",
              "<style scoped>\n",
              "    .dataframe tbody tr th:only-of-type {\n",
              "        vertical-align: middle;\n",
              "    }\n",
              "\n",
              "    .dataframe tbody tr th {\n",
              "        vertical-align: top;\n",
              "    }\n",
              "\n",
              "    .dataframe thead th {\n",
              "        text-align: right;\n",
              "    }\n",
              "</style>\n",
              "<table border=\"1\" class=\"dataframe\">\n",
              "  <thead>\n",
              "    <tr style=\"text-align: right;\">\n",
              "      <th></th>\n",
              "      <th>County</th>\n",
              "      <th>%_That_Slept_Under_a_Bed_Net</th>\n",
              "      <th>%_That_Had_a_Fever_or_Malaria</th>\n",
              "      <th>Heath_Spending_Per_Person_</th>\n",
              "      <th>Geolocation</th>\n",
              "      <th>OBJECTID</th>\n",
              "    </tr>\n",
              "  </thead>\n",
              "  <tbody>\n",
              "    <tr>\n",
              "      <th>0</th>\n",
              "      <td>Baringo</td>\n",
              "      <td>24.20%</td>\n",
              "      <td>14.90%</td>\n",
              "      <td>29</td>\n",
              "      <td>NaN</td>\n",
              "      <td>0</td>\n",
              "    </tr>\n",
              "    <tr>\n",
              "      <th>1</th>\n",
              "      <td>Bomet</td>\n",
              "      <td>26.30%</td>\n",
              "      <td>39.50%</td>\n",
              "      <td>20</td>\n",
              "      <td>NaN</td>\n",
              "      <td>1</td>\n",
              "    </tr>\n",
              "    <tr>\n",
              "      <th>2</th>\n",
              "      <td>Bungoma</td>\n",
              "      <td>27.80%</td>\n",
              "      <td>37.60%</td>\n",
              "      <td>20</td>\n",
              "      <td>NaN</td>\n",
              "      <td>2</td>\n",
              "    </tr>\n",
              "    <tr>\n",
              "      <th>3</th>\n",
              "      <td>Busia</td>\n",
              "      <td>40.70%</td>\n",
              "      <td>42.80%</td>\n",
              "      <td>20</td>\n",
              "      <td>NaN</td>\n",
              "      <td>3</td>\n",
              "    </tr>\n",
              "    <tr>\n",
              "      <th>4</th>\n",
              "      <td>Elgeyo/Marakwet</td>\n",
              "      <td>7.50%</td>\n",
              "      <td>9.40%</td>\n",
              "      <td>48</td>\n",
              "      <td>NaN</td>\n",
              "      <td>4</td>\n",
              "    </tr>\n",
              "    <tr>\n",
              "      <th>5</th>\n",
              "      <td>Embu</td>\n",
              "      <td>21.80%</td>\n",
              "      <td>39.80%</td>\n",
              "      <td>34</td>\n",
              "      <td>NaN</td>\n",
              "      <td>5</td>\n",
              "    </tr>\n",
              "    <tr>\n",
              "      <th>6</th>\n",
              "      <td>Garissa</td>\n",
              "      <td>38.40%</td>\n",
              "      <td>46.60%</td>\n",
              "      <td>37</td>\n",
              "      <td>NaN</td>\n",
              "      <td>6</td>\n",
              "    </tr>\n",
              "    <tr>\n",
              "      <th>7</th>\n",
              "      <td>Homa Bay</td>\n",
              "      <td>39.60%</td>\n",
              "      <td>58.30%</td>\n",
              "      <td>24</td>\n",
              "      <td>NaN</td>\n",
              "      <td>7</td>\n",
              "    </tr>\n",
              "    <tr>\n",
              "      <th>8</th>\n",
              "      <td>Isiolo</td>\n",
              "      <td>42.60%</td>\n",
              "      <td>33.70%</td>\n",
              "      <td>42</td>\n",
              "      <td>NaN</td>\n",
              "      <td>8</td>\n",
              "    </tr>\n",
              "    <tr>\n",
              "      <th>9</th>\n",
              "      <td>Kajiado</td>\n",
              "      <td>30.40%</td>\n",
              "      <td>12.30%</td>\n",
              "      <td>15</td>\n",
              "      <td>NaN</td>\n",
              "      <td>9</td>\n",
              "    </tr>\n",
              "    <tr>\n",
              "      <th>10</th>\n",
              "      <td>Kakamega</td>\n",
              "      <td>26.70%</td>\n",
              "      <td>37.90%</td>\n",
              "      <td>23</td>\n",
              "      <td>NaN</td>\n",
              "      <td>10</td>\n",
              "    </tr>\n",
              "    <tr>\n",
              "      <th>11</th>\n",
              "      <td>Kericho</td>\n",
              "      <td>33.80%</td>\n",
              "      <td>51.60%</td>\n",
              "      <td>11</td>\n",
              "      <td>NaN</td>\n",
              "      <td>11</td>\n",
              "    </tr>\n",
              "    <tr>\n",
              "      <th>12</th>\n",
              "      <td>Kiambu</td>\n",
              "      <td>14.50%</td>\n",
              "      <td>22.80%</td>\n",
              "      <td>20</td>\n",
              "      <td>NaN</td>\n",
              "      <td>12</td>\n",
              "    </tr>\n",
              "    <tr>\n",
              "      <th>13</th>\n",
              "      <td>Kilifi</td>\n",
              "      <td>38.50%</td>\n",
              "      <td>45.40%</td>\n",
              "      <td>26</td>\n",
              "      <td>NaN</td>\n",
              "      <td>13</td>\n",
              "    </tr>\n",
              "    <tr>\n",
              "      <th>14</th>\n",
              "      <td>Kirinyaga</td>\n",
              "      <td>30%</td>\n",
              "      <td>43.20%</td>\n",
              "      <td>18</td>\n",
              "      <td>NaN</td>\n",
              "      <td>14</td>\n",
              "    </tr>\n",
              "    <tr>\n",
              "      <th>15</th>\n",
              "      <td>Kisii</td>\n",
              "      <td>37.80%</td>\n",
              "      <td>49%</td>\n",
              "      <td>26</td>\n",
              "      <td>NaN</td>\n",
              "      <td>15</td>\n",
              "    </tr>\n",
              "    <tr>\n",
              "      <th>16</th>\n",
              "      <td>Kisumu</td>\n",
              "      <td>62.40%</td>\n",
              "      <td>45.60%</td>\n",
              "      <td>29</td>\n",
              "      <td>NaN</td>\n",
              "      <td>16</td>\n",
              "    </tr>\n",
              "    <tr>\n",
              "      <th>17</th>\n",
              "      <td>Kitui</td>\n",
              "      <td>13%</td>\n",
              "      <td>50.50%</td>\n",
              "      <td>46</td>\n",
              "      <td>NaN</td>\n",
              "      <td>17</td>\n",
              "    </tr>\n",
              "    <tr>\n",
              "      <th>18</th>\n",
              "      <td>Kwale</td>\n",
              "      <td>32.10%</td>\n",
              "      <td>37.70%</td>\n",
              "      <td>31</td>\n",
              "      <td>NaN</td>\n",
              "      <td>18</td>\n",
              "    </tr>\n",
              "    <tr>\n",
              "      <th>19</th>\n",
              "      <td>Laikipia</td>\n",
              "      <td>12.30%</td>\n",
              "      <td>14.90%</td>\n",
              "      <td>29</td>\n",
              "      <td>NaN</td>\n",
              "      <td>19</td>\n",
              "    </tr>\n",
              "    <tr>\n",
              "      <th>20</th>\n",
              "      <td>Lamu</td>\n",
              "      <td>51.30%</td>\n",
              "      <td>63.30%</td>\n",
              "      <td>50</td>\n",
              "      <td>NaN</td>\n",
              "      <td>20</td>\n",
              "    </tr>\n",
              "    <tr>\n",
              "      <th>21</th>\n",
              "      <td>Machakos</td>\n",
              "      <td>31.70%</td>\n",
              "      <td>40.90%</td>\n",
              "      <td>16</td>\n",
              "      <td>NaN</td>\n",
              "      <td>21</td>\n",
              "    </tr>\n",
              "    <tr>\n",
              "      <th>22</th>\n",
              "      <td>Makueni</td>\n",
              "      <td>10.80%</td>\n",
              "      <td>51.10%</td>\n",
              "      <td>15</td>\n",
              "      <td>NaN</td>\n",
              "      <td>22</td>\n",
              "    </tr>\n",
              "    <tr>\n",
              "      <th>23</th>\n",
              "      <td>Mandera</td>\n",
              "      <td>4.60%</td>\n",
              "      <td>35.20%</td>\n",
              "      <td>20</td>\n",
              "      <td>NaN</td>\n",
              "      <td>23</td>\n",
              "    </tr>\n",
              "    <tr>\n",
              "      <th>24</th>\n",
              "      <td>Marsabit</td>\n",
              "      <td>11.10%</td>\n",
              "      <td>44%</td>\n",
              "      <td>46</td>\n",
              "      <td>NaN</td>\n",
              "      <td>24</td>\n",
              "    </tr>\n",
              "    <tr>\n",
              "      <th>25</th>\n",
              "      <td>Meru</td>\n",
              "      <td>24%</td>\n",
              "      <td>42.60%</td>\n",
              "      <td>22</td>\n",
              "      <td>NaN</td>\n",
              "      <td>25</td>\n",
              "    </tr>\n",
              "    <tr>\n",
              "      <th>26</th>\n",
              "      <td>Migori</td>\n",
              "      <td>40.10%</td>\n",
              "      <td>63%</td>\n",
              "      <td>23</td>\n",
              "      <td>NaN</td>\n",
              "      <td>26</td>\n",
              "    </tr>\n",
              "    <tr>\n",
              "      <th>27</th>\n",
              "      <td>Mombasa</td>\n",
              "      <td>50.60%</td>\n",
              "      <td>48%</td>\n",
              "      <td>11</td>\n",
              "      <td>NaN</td>\n",
              "      <td>27</td>\n",
              "    </tr>\n",
              "    <tr>\n",
              "      <th>28</th>\n",
              "      <td>Murang'a</td>\n",
              "      <td>11.40%</td>\n",
              "      <td>36.20%</td>\n",
              "      <td>22</td>\n",
              "      <td>NaN</td>\n",
              "      <td>28</td>\n",
              "    </tr>\n",
              "    <tr>\n",
              "      <th>29</th>\n",
              "      <td>Nairobi</td>\n",
              "      <td>38%</td>\n",
              "      <td>37.70%</td>\n",
              "      <td>7</td>\n",
              "      <td>NaN</td>\n",
              "      <td>29</td>\n",
              "    </tr>\n",
              "    <tr>\n",
              "      <th>30</th>\n",
              "      <td>Nakuru</td>\n",
              "      <td>9.80%</td>\n",
              "      <td>0%</td>\n",
              "      <td>11</td>\n",
              "      <td>NaN</td>\n",
              "      <td>30</td>\n",
              "    </tr>\n",
              "    <tr>\n",
              "      <th>31</th>\n",
              "      <td>Nandi</td>\n",
              "      <td>18.90%</td>\n",
              "      <td>50.90%</td>\n",
              "      <td>23</td>\n",
              "      <td>NaN</td>\n",
              "      <td>31</td>\n",
              "    </tr>\n",
              "    <tr>\n",
              "      <th>32</th>\n",
              "      <td>Narok</td>\n",
              "      <td>12.90%</td>\n",
              "      <td>55.80%</td>\n",
              "      <td>7</td>\n",
              "      <td>NaN</td>\n",
              "      <td>32</td>\n",
              "    </tr>\n",
              "    <tr>\n",
              "      <th>33</th>\n",
              "      <td>Nyamira</td>\n",
              "      <td>40.90%</td>\n",
              "      <td>38.90%</td>\n",
              "      <td>22</td>\n",
              "      <td>NaN</td>\n",
              "      <td>33</td>\n",
              "    </tr>\n",
              "    <tr>\n",
              "      <th>34</th>\n",
              "      <td>Nyandarua</td>\n",
              "      <td>1.70%</td>\n",
              "      <td>14.40%</td>\n",
              "      <td>17</td>\n",
              "      <td>NaN</td>\n",
              "      <td>34</td>\n",
              "    </tr>\n",
              "    <tr>\n",
              "      <th>35</th>\n",
              "      <td>Nyeri</td>\n",
              "      <td>5.70%</td>\n",
              "      <td>13.40%</td>\n",
              "      <td>39</td>\n",
              "      <td>NaN</td>\n",
              "      <td>35</td>\n",
              "    </tr>\n",
              "    <tr>\n",
              "      <th>36</th>\n",
              "      <td>Samburu</td>\n",
              "      <td>3.20%</td>\n",
              "      <td>37.10%</td>\n",
              "      <td>34</td>\n",
              "      <td>NaN</td>\n",
              "      <td>36</td>\n",
              "    </tr>\n",
              "    <tr>\n",
              "      <th>37</th>\n",
              "      <td>Siaya</td>\n",
              "      <td>46.70%</td>\n",
              "      <td>54.40%</td>\n",
              "      <td>22</td>\n",
              "      <td>NaN</td>\n",
              "      <td>37</td>\n",
              "    </tr>\n",
              "    <tr>\n",
              "      <th>38</th>\n",
              "      <td>Taita Taveta</td>\n",
              "      <td>30.80%</td>\n",
              "      <td>48.80%</td>\n",
              "      <td>48</td>\n",
              "      <td>NaN</td>\n",
              "      <td>38</td>\n",
              "    </tr>\n",
              "    <tr>\n",
              "      <th>39</th>\n",
              "      <td>Tana River</td>\n",
              "      <td>45.10%</td>\n",
              "      <td>63.30%</td>\n",
              "      <td>19</td>\n",
              "      <td>NaN</td>\n",
              "      <td>39</td>\n",
              "    </tr>\n",
              "    <tr>\n",
              "      <th>40</th>\n",
              "      <td>Tharaka Nithi</td>\n",
              "      <td>41.30%</td>\n",
              "      <td>33.80%</td>\n",
              "      <td>18</td>\n",
              "      <td>NaN</td>\n",
              "      <td>40</td>\n",
              "    </tr>\n",
              "    <tr>\n",
              "      <th>41</th>\n",
              "      <td>Trans Nzoia</td>\n",
              "      <td>23%</td>\n",
              "      <td>34.80%</td>\n",
              "      <td>8</td>\n",
              "      <td>NaN</td>\n",
              "      <td>41</td>\n",
              "    </tr>\n",
              "    <tr>\n",
              "      <th>42</th>\n",
              "      <td>Turkana</td>\n",
              "      <td>6%</td>\n",
              "      <td>55.40%</td>\n",
              "      <td>14</td>\n",
              "      <td>NaN</td>\n",
              "      <td>42</td>\n",
              "    </tr>\n",
              "    <tr>\n",
              "      <th>43</th>\n",
              "      <td>Uasin Gishu</td>\n",
              "      <td>33.60%</td>\n",
              "      <td>43.40%</td>\n",
              "      <td>13</td>\n",
              "      <td>NaN</td>\n",
              "      <td>43</td>\n",
              "    </tr>\n",
              "    <tr>\n",
              "      <th>44</th>\n",
              "      <td>Vihiga</td>\n",
              "      <td>28.50%</td>\n",
              "      <td>33.40%</td>\n",
              "      <td>10</td>\n",
              "      <td>NaN</td>\n",
              "      <td>44</td>\n",
              "    </tr>\n",
              "    <tr>\n",
              "      <th>45</th>\n",
              "      <td>Wajir</td>\n",
              "      <td>18.30%</td>\n",
              "      <td>54.80%</td>\n",
              "      <td>21</td>\n",
              "      <td>NaN</td>\n",
              "      <td>45</td>\n",
              "    </tr>\n",
              "    <tr>\n",
              "      <th>46</th>\n",
              "      <td>West Pokot</td>\n",
              "      <td>15.90%</td>\n",
              "      <td>60.40%</td>\n",
              "      <td>24</td>\n",
              "      <td>NaN</td>\n",
              "      <td>46</td>\n",
              "    </tr>\n",
              "  </tbody>\n",
              "</table>\n",
              "</div>"
            ],
            "text/plain": [
              "             County %_That_Slept_Under_a_Bed_Net  ... Geolocation  OBJECTID\n",
              "0           Baringo                       24.20%  ...         NaN         0\n",
              "1             Bomet                       26.30%  ...         NaN         1\n",
              "2           Bungoma                       27.80%  ...         NaN         2\n",
              "3             Busia                       40.70%  ...         NaN         3\n",
              "4   Elgeyo/Marakwet                        7.50%  ...         NaN         4\n",
              "5              Embu                       21.80%  ...         NaN         5\n",
              "6           Garissa                       38.40%  ...         NaN         6\n",
              "7          Homa Bay                       39.60%  ...         NaN         7\n",
              "8            Isiolo                       42.60%  ...         NaN         8\n",
              "9           Kajiado                       30.40%  ...         NaN         9\n",
              "10         Kakamega                       26.70%  ...         NaN        10\n",
              "11          Kericho                       33.80%  ...         NaN        11\n",
              "12           Kiambu                       14.50%  ...         NaN        12\n",
              "13           Kilifi                       38.50%  ...         NaN        13\n",
              "14        Kirinyaga                          30%  ...         NaN        14\n",
              "15            Kisii                       37.80%  ...         NaN        15\n",
              "16           Kisumu                       62.40%  ...         NaN        16\n",
              "17            Kitui                          13%  ...         NaN        17\n",
              "18            Kwale                       32.10%  ...         NaN        18\n",
              "19         Laikipia                       12.30%  ...         NaN        19\n",
              "20             Lamu                       51.30%  ...         NaN        20\n",
              "21         Machakos                       31.70%  ...         NaN        21\n",
              "22          Makueni                       10.80%  ...         NaN        22\n",
              "23          Mandera                        4.60%  ...         NaN        23\n",
              "24         Marsabit                       11.10%  ...         NaN        24\n",
              "25             Meru                          24%  ...         NaN        25\n",
              "26           Migori                       40.10%  ...         NaN        26\n",
              "27          Mombasa                       50.60%  ...         NaN        27\n",
              "28         Murang'a                       11.40%  ...         NaN        28\n",
              "29          Nairobi                          38%  ...         NaN        29\n",
              "30           Nakuru                        9.80%  ...         NaN        30\n",
              "31            Nandi                       18.90%  ...         NaN        31\n",
              "32            Narok                       12.90%  ...         NaN        32\n",
              "33          Nyamira                       40.90%  ...         NaN        33\n",
              "34        Nyandarua                        1.70%  ...         NaN        34\n",
              "35            Nyeri                        5.70%  ...         NaN        35\n",
              "36          Samburu                        3.20%  ...         NaN        36\n",
              "37            Siaya                       46.70%  ...         NaN        37\n",
              "38     Taita Taveta                       30.80%  ...         NaN        38\n",
              "39       Tana River                       45.10%  ...         NaN        39\n",
              "40    Tharaka Nithi                       41.30%  ...         NaN        40\n",
              "41      Trans Nzoia                          23%  ...         NaN        41\n",
              "42          Turkana                           6%  ...         NaN        42\n",
              "43      Uasin Gishu                       33.60%  ...         NaN        43\n",
              "44           Vihiga                       28.50%  ...         NaN        44\n",
              "45            Wajir                       18.30%  ...         NaN        45\n",
              "46       West Pokot                       15.90%  ...         NaN        46\n",
              "\n",
              "[47 rows x 6 columns]"
            ]
          },
          "metadata": {
            "tags": []
          },
          "execution_count": 5
        }
      ]
    },
    {
      "cell_type": "code",
      "metadata": {
        "id": "GfP0ninRq9nQ",
        "colab_type": "code",
        "outputId": "98d789f2-0874-4abe-a26f-965f68d6cf6b",
        "colab": {
          "base_uri": "https://localhost:8080/",
          "height": 204
        }
      },
      "source": [
        "# Viewing the first 5\n",
        "df.head()"
      ],
      "execution_count": 0,
      "outputs": [
        {
          "output_type": "execute_result",
          "data": {
            "text/html": [
              "<div>\n",
              "<style scoped>\n",
              "    .dataframe tbody tr th:only-of-type {\n",
              "        vertical-align: middle;\n",
              "    }\n",
              "\n",
              "    .dataframe tbody tr th {\n",
              "        vertical-align: top;\n",
              "    }\n",
              "\n",
              "    .dataframe thead th {\n",
              "        text-align: right;\n",
              "    }\n",
              "</style>\n",
              "<table border=\"1\" class=\"dataframe\">\n",
              "  <thead>\n",
              "    <tr style=\"text-align: right;\">\n",
              "      <th></th>\n",
              "      <th>County</th>\n",
              "      <th>%_That_Slept_Under_a_Bed_Net</th>\n",
              "      <th>%_That_Had_a_Fever_or_Malaria</th>\n",
              "      <th>Heath_Spending_Per_Person_</th>\n",
              "      <th>Geolocation</th>\n",
              "      <th>OBJECTID</th>\n",
              "    </tr>\n",
              "  </thead>\n",
              "  <tbody>\n",
              "    <tr>\n",
              "      <th>0</th>\n",
              "      <td>Baringo</td>\n",
              "      <td>24.20%</td>\n",
              "      <td>14.90%</td>\n",
              "      <td>29</td>\n",
              "      <td>NaN</td>\n",
              "      <td>0</td>\n",
              "    </tr>\n",
              "    <tr>\n",
              "      <th>1</th>\n",
              "      <td>Bomet</td>\n",
              "      <td>26.30%</td>\n",
              "      <td>39.50%</td>\n",
              "      <td>20</td>\n",
              "      <td>NaN</td>\n",
              "      <td>1</td>\n",
              "    </tr>\n",
              "    <tr>\n",
              "      <th>2</th>\n",
              "      <td>Bungoma</td>\n",
              "      <td>27.80%</td>\n",
              "      <td>37.60%</td>\n",
              "      <td>20</td>\n",
              "      <td>NaN</td>\n",
              "      <td>2</td>\n",
              "    </tr>\n",
              "    <tr>\n",
              "      <th>3</th>\n",
              "      <td>Busia</td>\n",
              "      <td>40.70%</td>\n",
              "      <td>42.80%</td>\n",
              "      <td>20</td>\n",
              "      <td>NaN</td>\n",
              "      <td>3</td>\n",
              "    </tr>\n",
              "    <tr>\n",
              "      <th>4</th>\n",
              "      <td>Elgeyo/Marakwet</td>\n",
              "      <td>7.50%</td>\n",
              "      <td>9.40%</td>\n",
              "      <td>48</td>\n",
              "      <td>NaN</td>\n",
              "      <td>4</td>\n",
              "    </tr>\n",
              "  </tbody>\n",
              "</table>\n",
              "</div>"
            ],
            "text/plain": [
              "            County %_That_Slept_Under_a_Bed_Net  ... Geolocation  OBJECTID\n",
              "0          Baringo                       24.20%  ...         NaN         0\n",
              "1            Bomet                       26.30%  ...         NaN         1\n",
              "2          Bungoma                       27.80%  ...         NaN         2\n",
              "3            Busia                       40.70%  ...         NaN         3\n",
              "4  Elgeyo/Marakwet                        7.50%  ...         NaN         4\n",
              "\n",
              "[5 rows x 6 columns]"
            ]
          },
          "metadata": {
            "tags": []
          },
          "execution_count": 6
        }
      ]
    },
    {
      "cell_type": "code",
      "metadata": {
        "id": "msKh_WTGrvcr",
        "colab_type": "code",
        "colab": {}
      },
      "source": [
        ""
      ],
      "execution_count": 0,
      "outputs": []
    },
    {
      "cell_type": "markdown",
      "metadata": {
        "id": "trlj49V3syIB",
        "colab_type": "text"
      },
      "source": [
        "### Data Preparation"
      ]
    },
    {
      "cell_type": "code",
      "metadata": {
        "id": "pHsZ5wVds3rt",
        "colab_type": "code",
        "outputId": "711e206e-ddfe-476e-fcd6-edc66c82be65",
        "colab": {
          "base_uri": "https://localhost:8080/",
          "height": 238
        }
      },
      "source": [
        "# Checking the info of the data.\n",
        "df.info()"
      ],
      "execution_count": 0,
      "outputs": [
        {
          "output_type": "stream",
          "text": [
            "<class 'pandas.core.frame.DataFrame'>\n",
            "RangeIndex: 47 entries, 0 to 46\n",
            "Data columns (total 6 columns):\n",
            " #   Column                         Non-Null Count  Dtype  \n",
            "---  ------                         --------------  -----  \n",
            " 0   County                         47 non-null     object \n",
            " 1   %_That_Slept_Under_a_Bed_Net   47 non-null     object \n",
            " 2   %_That_Had_a_Fever_or_Malaria  47 non-null     object \n",
            " 3   Heath_Spending_Per_Person_     47 non-null     int64  \n",
            " 4   Geolocation                    0 non-null      float64\n",
            " 5   OBJECTID                       47 non-null     int64  \n",
            "dtypes: float64(1), int64(2), object(3)\n",
            "memory usage: 2.3+ KB\n"
          ],
          "name": "stdout"
        }
      ]
    },
    {
      "cell_type": "code",
      "metadata": {
        "id": "nv0pX6K9s9AV",
        "colab_type": "code",
        "outputId": "bb8b3c81-6280-4455-c0af-5285c121ede8",
        "colab": {
          "base_uri": "https://localhost:8080/",
          "height": 136
        }
      },
      "source": [
        "# Checking if there are any null values.\n",
        "df.isnull().sum()"
      ],
      "execution_count": 0,
      "outputs": [
        {
          "output_type": "execute_result",
          "data": {
            "text/plain": [
              "County                            0\n",
              "%_That_Slept_Under_a_Bed_Net      0\n",
              "%_That_Had_a_Fever_or_Malaria     0\n",
              "Heath_Spending_Per_Person_        0\n",
              "Geolocation                      47\n",
              "OBJECTID                          0\n",
              "dtype: int64"
            ]
          },
          "metadata": {
            "tags": []
          },
          "execution_count": 8
        }
      ]
    },
    {
      "cell_type": "code",
      "metadata": {
        "id": "87iSDOfntEYj",
        "colab_type": "code",
        "outputId": "84fdcc02-8bc3-4b75-ad96-ec4002b7a386",
        "colab": {
          "base_uri": "https://localhost:8080/",
          "height": 34
        }
      },
      "source": [
        "# Getting the size of the dataframe\n",
        "df.size"
      ],
      "execution_count": 0,
      "outputs": [
        {
          "output_type": "execute_result",
          "data": {
            "text/plain": [
              "282"
            ]
          },
          "metadata": {
            "tags": []
          },
          "execution_count": 9
        }
      ]
    },
    {
      "cell_type": "code",
      "metadata": {
        "id": "AowoNPYjy3R1",
        "colab_type": "code",
        "outputId": "59c41abb-83c6-437a-926f-29681979a323",
        "colab": {
          "base_uri": "https://localhost:8080/",
          "height": 34
        }
      },
      "source": [
        "# Showing the size of the dataframe\n",
        "df.shape"
      ],
      "execution_count": 0,
      "outputs": [
        {
          "output_type": "execute_result",
          "data": {
            "text/plain": [
              "(47, 6)"
            ]
          },
          "metadata": {
            "tags": []
          },
          "execution_count": 10
        }
      ]
    },
    {
      "cell_type": "code",
      "metadata": {
        "id": "6Q1wqY-jy7OD",
        "colab_type": "code",
        "outputId": "317e5385-08d0-439d-dca1-797a7cf4855f",
        "colab": {
          "base_uri": "https://localhost:8080/",
          "height": 297
        }
      },
      "source": [
        "# Using describe to show the statistics of the dataframe\n",
        "df.describe()"
      ],
      "execution_count": 0,
      "outputs": [
        {
          "output_type": "execute_result",
          "data": {
            "text/html": [
              "<div>\n",
              "<style scoped>\n",
              "    .dataframe tbody tr th:only-of-type {\n",
              "        vertical-align: middle;\n",
              "    }\n",
              "\n",
              "    .dataframe tbody tr th {\n",
              "        vertical-align: top;\n",
              "    }\n",
              "\n",
              "    .dataframe thead th {\n",
              "        text-align: right;\n",
              "    }\n",
              "</style>\n",
              "<table border=\"1\" class=\"dataframe\">\n",
              "  <thead>\n",
              "    <tr style=\"text-align: right;\">\n",
              "      <th></th>\n",
              "      <th>Heath_Spending_Per_Person_</th>\n",
              "      <th>Geolocation</th>\n",
              "      <th>OBJECTID</th>\n",
              "    </tr>\n",
              "  </thead>\n",
              "  <tbody>\n",
              "    <tr>\n",
              "      <th>count</th>\n",
              "      <td>47.000000</td>\n",
              "      <td>0.0</td>\n",
              "      <td>47.000000</td>\n",
              "    </tr>\n",
              "    <tr>\n",
              "      <th>mean</th>\n",
              "      <td>24.042553</td>\n",
              "      <td>NaN</td>\n",
              "      <td>23.000000</td>\n",
              "    </tr>\n",
              "    <tr>\n",
              "      <th>std</th>\n",
              "      <td>11.500392</td>\n",
              "      <td>NaN</td>\n",
              "      <td>13.711309</td>\n",
              "    </tr>\n",
              "    <tr>\n",
              "      <th>min</th>\n",
              "      <td>7.000000</td>\n",
              "      <td>NaN</td>\n",
              "      <td>0.000000</td>\n",
              "    </tr>\n",
              "    <tr>\n",
              "      <th>25%</th>\n",
              "      <td>16.500000</td>\n",
              "      <td>NaN</td>\n",
              "      <td>11.500000</td>\n",
              "    </tr>\n",
              "    <tr>\n",
              "      <th>50%</th>\n",
              "      <td>22.000000</td>\n",
              "      <td>NaN</td>\n",
              "      <td>23.000000</td>\n",
              "    </tr>\n",
              "    <tr>\n",
              "      <th>75%</th>\n",
              "      <td>29.000000</td>\n",
              "      <td>NaN</td>\n",
              "      <td>34.500000</td>\n",
              "    </tr>\n",
              "    <tr>\n",
              "      <th>max</th>\n",
              "      <td>50.000000</td>\n",
              "      <td>NaN</td>\n",
              "      <td>46.000000</td>\n",
              "    </tr>\n",
              "  </tbody>\n",
              "</table>\n",
              "</div>"
            ],
            "text/plain": [
              "       Heath_Spending_Per_Person_  Geolocation   OBJECTID\n",
              "count                   47.000000          0.0  47.000000\n",
              "mean                    24.042553          NaN  23.000000\n",
              "std                     11.500392          NaN  13.711309\n",
              "min                      7.000000          NaN   0.000000\n",
              "25%                     16.500000          NaN  11.500000\n",
              "50%                     22.000000          NaN  23.000000\n",
              "75%                     29.000000          NaN  34.500000\n",
              "max                     50.000000          NaN  46.000000"
            ]
          },
          "metadata": {
            "tags": []
          },
          "execution_count": 11
        }
      ]
    },
    {
      "cell_type": "markdown",
      "metadata": {
        "id": "E7UGbCj52l1m",
        "colab_type": "text"
      },
      "source": [
        "### Data Cleaning"
      ]
    },
    {
      "cell_type": "markdown",
      "metadata": {
        "id": "Z5krFwgZ_vCx",
        "colab_type": "text"
      },
      "source": [
        "#### **Irrelevancy**"
      ]
    },
    {
      "cell_type": "code",
      "metadata": {
        "id": "fYtYMzk72ypZ",
        "colab_type": "code",
        "colab": {}
      },
      "source": [
        "# IRRELEVANCY\n",
        "# Irrelevant data are those that are not actually needed, and don’t fit under \n",
        "# the context of the problem we’re trying to solve.\n",
        "df = df.drop(['Geolocation', 'OBJECTID'], axis = 1)\n"
      ],
      "execution_count": 0,
      "outputs": []
    },
    {
      "cell_type": "code",
      "metadata": {
        "id": "z_Ohs99k2_bi",
        "colab_type": "code",
        "outputId": "b0cdc8ef-1145-4022-bafa-06f32fd532db",
        "colab": {
          "base_uri": "https://localhost:8080/",
          "height": 204
        }
      },
      "source": [
        "df.head()"
      ],
      "execution_count": 0,
      "outputs": [
        {
          "output_type": "execute_result",
          "data": {
            "text/html": [
              "<div>\n",
              "<style scoped>\n",
              "    .dataframe tbody tr th:only-of-type {\n",
              "        vertical-align: middle;\n",
              "    }\n",
              "\n",
              "    .dataframe tbody tr th {\n",
              "        vertical-align: top;\n",
              "    }\n",
              "\n",
              "    .dataframe thead th {\n",
              "        text-align: right;\n",
              "    }\n",
              "</style>\n",
              "<table border=\"1\" class=\"dataframe\">\n",
              "  <thead>\n",
              "    <tr style=\"text-align: right;\">\n",
              "      <th></th>\n",
              "      <th>County</th>\n",
              "      <th>%_That_Slept_Under_a_Bed_Net</th>\n",
              "      <th>%_That_Had_a_Fever_or_Malaria</th>\n",
              "      <th>Heath_Spending_Per_Person_</th>\n",
              "    </tr>\n",
              "  </thead>\n",
              "  <tbody>\n",
              "    <tr>\n",
              "      <th>0</th>\n",
              "      <td>Baringo</td>\n",
              "      <td>24.20%</td>\n",
              "      <td>14.90%</td>\n",
              "      <td>29</td>\n",
              "    </tr>\n",
              "    <tr>\n",
              "      <th>1</th>\n",
              "      <td>Bomet</td>\n",
              "      <td>26.30%</td>\n",
              "      <td>39.50%</td>\n",
              "      <td>20</td>\n",
              "    </tr>\n",
              "    <tr>\n",
              "      <th>2</th>\n",
              "      <td>Bungoma</td>\n",
              "      <td>27.80%</td>\n",
              "      <td>37.60%</td>\n",
              "      <td>20</td>\n",
              "    </tr>\n",
              "    <tr>\n",
              "      <th>3</th>\n",
              "      <td>Busia</td>\n",
              "      <td>40.70%</td>\n",
              "      <td>42.80%</td>\n",
              "      <td>20</td>\n",
              "    </tr>\n",
              "    <tr>\n",
              "      <th>4</th>\n",
              "      <td>Elgeyo/Marakwet</td>\n",
              "      <td>7.50%</td>\n",
              "      <td>9.40%</td>\n",
              "      <td>48</td>\n",
              "    </tr>\n",
              "  </tbody>\n",
              "</table>\n",
              "</div>"
            ],
            "text/plain": [
              "            County  ... Heath_Spending_Per_Person_\n",
              "0          Baringo  ...                         29\n",
              "1            Bomet  ...                         20\n",
              "2          Bungoma  ...                         20\n",
              "3            Busia  ...                         20\n",
              "4  Elgeyo/Marakwet  ...                         48\n",
              "\n",
              "[5 rows x 4 columns]"
            ]
          },
          "metadata": {
            "tags": []
          },
          "execution_count": 13
        }
      ]
    },
    {
      "cell_type": "markdown",
      "metadata": {
        "id": "Us2_L2Zx_pjL",
        "colab_type": "text"
      },
      "source": [
        "#### **Completeness**"
      ]
    },
    {
      "cell_type": "code",
      "metadata": {
        "id": "UvjlJ4IY4HEl",
        "colab_type": "code",
        "outputId": "c8240d29-6cd5-496b-c6fe-128fc7984203",
        "colab": {
          "base_uri": "https://localhost:8080/",
          "height": 51
        }
      },
      "source": [
        "# COMPLETENESS\n",
        "# Checking/ Counting Missing Values \n",
        "# \n",
        "\n",
        "# Checking if there is any missing value in dataframe as a whole\n",
        "# \n",
        "df.isnull()\n",
        "\n",
        "# Checking if there is any missing value across each column\n",
        "#\n",
        "df.isnull().any()\n",
        "\n",
        "# Checking how many missing values there are across each column\n",
        "# \n",
        "df.isnull().sum()\n",
        "\n",
        "# Or we can do a quick check to see if we have any missing values at all\n",
        "#\n",
        "print(df.isnull().values.any())\n",
        "\n",
        "# We might also want to get a total count of missing values\n",
        "# \n",
        "print(df.isnull().sum().sum())"
      ],
      "execution_count": 0,
      "outputs": [
        {
          "output_type": "stream",
          "text": [
            "False\n",
            "0\n"
          ],
          "name": "stdout"
        }
      ]
    },
    {
      "cell_type": "markdown",
      "metadata": {
        "id": "KA0He55D_jy2",
        "colab_type": "text"
      },
      "source": [
        "#### **Consistency**"
      ]
    },
    {
      "cell_type": "code",
      "metadata": {
        "id": "_6fR8KSW5Gdf",
        "colab_type": "code",
        "outputId": "f66ac5b4-2a0f-4ee2-d304-c49a65f8520d",
        "colab": {
          "base_uri": "https://localhost:8080/",
          "height": 867
        }
      },
      "source": [
        "# CONSISTENCY\n",
        "# Checking for duplicates that are repeated in my dataset. \n",
        "# These should be simply removed.\n",
        "#\n",
        "print(df.drop_duplicates())"
      ],
      "execution_count": 0,
      "outputs": [
        {
          "output_type": "stream",
          "text": [
            "             County  ... Heath_Spending_Per_Person_\n",
            "0           Baringo  ...                         29\n",
            "1             Bomet  ...                         20\n",
            "2           Bungoma  ...                         20\n",
            "3             Busia  ...                         20\n",
            "4   Elgeyo/Marakwet  ...                         48\n",
            "5              Embu  ...                         34\n",
            "6           Garissa  ...                         37\n",
            "7          Homa Bay  ...                         24\n",
            "8            Isiolo  ...                         42\n",
            "9           Kajiado  ...                         15\n",
            "10         Kakamega  ...                         23\n",
            "11          Kericho  ...                         11\n",
            "12           Kiambu  ...                         20\n",
            "13           Kilifi  ...                         26\n",
            "14        Kirinyaga  ...                         18\n",
            "15            Kisii  ...                         26\n",
            "16           Kisumu  ...                         29\n",
            "17            Kitui  ...                         46\n",
            "18            Kwale  ...                         31\n",
            "19         Laikipia  ...                         29\n",
            "20             Lamu  ...                         50\n",
            "21         Machakos  ...                         16\n",
            "22          Makueni  ...                         15\n",
            "23          Mandera  ...                         20\n",
            "24         Marsabit  ...                         46\n",
            "25             Meru  ...                         22\n",
            "26           Migori  ...                         23\n",
            "27          Mombasa  ...                         11\n",
            "28         Murang'a  ...                         22\n",
            "29          Nairobi  ...                          7\n",
            "30           Nakuru  ...                         11\n",
            "31            Nandi  ...                         23\n",
            "32            Narok  ...                          7\n",
            "33          Nyamira  ...                         22\n",
            "34        Nyandarua  ...                         17\n",
            "35            Nyeri  ...                         39\n",
            "36          Samburu  ...                         34\n",
            "37            Siaya  ...                         22\n",
            "38     Taita Taveta  ...                         48\n",
            "39       Tana River  ...                         19\n",
            "40    Tharaka Nithi  ...                         18\n",
            "41      Trans Nzoia  ...                          8\n",
            "42          Turkana  ...                         14\n",
            "43      Uasin Gishu  ...                         13\n",
            "44           Vihiga  ...                         10\n",
            "45            Wajir  ...                         21\n",
            "46       West Pokot  ...                         24\n",
            "\n",
            "[47 rows x 4 columns]\n"
          ],
          "name": "stdout"
        }
      ]
    },
    {
      "cell_type": "code",
      "metadata": {
        "id": "7VJKqvzG5yMp",
        "colab_type": "code",
        "outputId": "0a4895e5-ffec-4795-d0d6-c697d818348d",
        "colab": {
          "base_uri": "https://localhost:8080/",
          "height": 34
        }
      },
      "source": [
        "df.shape"
      ],
      "execution_count": 0,
      "outputs": [
        {
          "output_type": "execute_result",
          "data": {
            "text/plain": [
              "(47, 4)"
            ]
          },
          "metadata": {
            "tags": []
          },
          "execution_count": 16
        }
      ]
    },
    {
      "cell_type": "markdown",
      "metadata": {
        "id": "chVwGZf6_XNl",
        "colab_type": "text"
      },
      "source": [
        "####**Uniformity**"
      ]
    },
    {
      "cell_type": "code",
      "metadata": {
        "id": "HcpgAVvA5zL1",
        "colab_type": "code",
        "colab": {}
      },
      "source": [
        "# UNIFORMITY\n",
        "# Standardization - Renaming column names\n",
        "# Renaming the columns all to lowercase.\n",
        "# \n",
        "cols = ['county','pct_that_slept_under_a_bed_net','pct_that_had_a_fever_or_malaria', 'health_spending_per_person']\n",
        "df.columns = cols"
      ],
      "execution_count": 0,
      "outputs": []
    },
    {
      "cell_type": "code",
      "metadata": {
        "id": "8cL-eMeg7CCo",
        "colab_type": "code",
        "outputId": "c5f9e4a3-a019-439e-bacd-eb87165dc0ad",
        "colab": {
          "base_uri": "https://localhost:8080/",
          "height": 204
        }
      },
      "source": [
        "# Confirming that the dataframe columns have been renamed appriopriately\n",
        "df.columns\n",
        "df.head()"
      ],
      "execution_count": 0,
      "outputs": [
        {
          "output_type": "execute_result",
          "data": {
            "text/html": [
              "<div>\n",
              "<style scoped>\n",
              "    .dataframe tbody tr th:only-of-type {\n",
              "        vertical-align: middle;\n",
              "    }\n",
              "\n",
              "    .dataframe tbody tr th {\n",
              "        vertical-align: top;\n",
              "    }\n",
              "\n",
              "    .dataframe thead th {\n",
              "        text-align: right;\n",
              "    }\n",
              "</style>\n",
              "<table border=\"1\" class=\"dataframe\">\n",
              "  <thead>\n",
              "    <tr style=\"text-align: right;\">\n",
              "      <th></th>\n",
              "      <th>county</th>\n",
              "      <th>pct_that_slept_under_a_bed_net</th>\n",
              "      <th>pct_that_had_a_fever_or_malaria</th>\n",
              "      <th>health_spending_per_person</th>\n",
              "    </tr>\n",
              "  </thead>\n",
              "  <tbody>\n",
              "    <tr>\n",
              "      <th>0</th>\n",
              "      <td>Baringo</td>\n",
              "      <td>24.20%</td>\n",
              "      <td>14.90%</td>\n",
              "      <td>29</td>\n",
              "    </tr>\n",
              "    <tr>\n",
              "      <th>1</th>\n",
              "      <td>Bomet</td>\n",
              "      <td>26.30%</td>\n",
              "      <td>39.50%</td>\n",
              "      <td>20</td>\n",
              "    </tr>\n",
              "    <tr>\n",
              "      <th>2</th>\n",
              "      <td>Bungoma</td>\n",
              "      <td>27.80%</td>\n",
              "      <td>37.60%</td>\n",
              "      <td>20</td>\n",
              "    </tr>\n",
              "    <tr>\n",
              "      <th>3</th>\n",
              "      <td>Busia</td>\n",
              "      <td>40.70%</td>\n",
              "      <td>42.80%</td>\n",
              "      <td>20</td>\n",
              "    </tr>\n",
              "    <tr>\n",
              "      <th>4</th>\n",
              "      <td>Elgeyo/Marakwet</td>\n",
              "      <td>7.50%</td>\n",
              "      <td>9.40%</td>\n",
              "      <td>48</td>\n",
              "    </tr>\n",
              "  </tbody>\n",
              "</table>\n",
              "</div>"
            ],
            "text/plain": [
              "            county  ... health_spending_per_person\n",
              "0          Baringo  ...                         29\n",
              "1            Bomet  ...                         20\n",
              "2          Bungoma  ...                         20\n",
              "3            Busia  ...                         20\n",
              "4  Elgeyo/Marakwet  ...                         48\n",
              "\n",
              "[5 rows x 4 columns]"
            ]
          },
          "metadata": {
            "tags": []
          },
          "execution_count": 18
        }
      ]
    },
    {
      "cell_type": "code",
      "metadata": {
        "id": "NiyPejZY96sX",
        "colab_type": "code",
        "colab": {}
      },
      "source": [
        "# Removing the % symbol from my dataset columns\n",
        "#\n",
        "df['pct_that_slept_under_a_bed_net'] = df['pct_that_slept_under_a_bed_net'].str.rstrip('%')\n",
        "df['pct_that_had_a_fever_or_malaria'] = df['pct_that_had_a_fever_or_malaria'].str.rstrip('%')"
      ],
      "execution_count": 0,
      "outputs": []
    },
    {
      "cell_type": "code",
      "metadata": {
        "id": "48g5ca1N-TG-",
        "colab_type": "code",
        "outputId": "7244ddd8-75b2-41f6-f42e-d510269b2e73",
        "colab": {
          "base_uri": "https://localhost:8080/",
          "height": 204
        }
      },
      "source": [
        "# Checking if the changes are reflected on the dataframe.\n",
        "df.head()"
      ],
      "execution_count": 0,
      "outputs": [
        {
          "output_type": "execute_result",
          "data": {
            "text/html": [
              "<div>\n",
              "<style scoped>\n",
              "    .dataframe tbody tr th:only-of-type {\n",
              "        vertical-align: middle;\n",
              "    }\n",
              "\n",
              "    .dataframe tbody tr th {\n",
              "        vertical-align: top;\n",
              "    }\n",
              "\n",
              "    .dataframe thead th {\n",
              "        text-align: right;\n",
              "    }\n",
              "</style>\n",
              "<table border=\"1\" class=\"dataframe\">\n",
              "  <thead>\n",
              "    <tr style=\"text-align: right;\">\n",
              "      <th></th>\n",
              "      <th>county</th>\n",
              "      <th>pct_that_slept_under_a_bed_net</th>\n",
              "      <th>pct_that_had_a_fever_or_malaria</th>\n",
              "      <th>health_spending_per_person</th>\n",
              "    </tr>\n",
              "  </thead>\n",
              "  <tbody>\n",
              "    <tr>\n",
              "      <th>0</th>\n",
              "      <td>Baringo</td>\n",
              "      <td>24.20</td>\n",
              "      <td>14.90</td>\n",
              "      <td>29</td>\n",
              "    </tr>\n",
              "    <tr>\n",
              "      <th>1</th>\n",
              "      <td>Bomet</td>\n",
              "      <td>26.30</td>\n",
              "      <td>39.50</td>\n",
              "      <td>20</td>\n",
              "    </tr>\n",
              "    <tr>\n",
              "      <th>2</th>\n",
              "      <td>Bungoma</td>\n",
              "      <td>27.80</td>\n",
              "      <td>37.60</td>\n",
              "      <td>20</td>\n",
              "    </tr>\n",
              "    <tr>\n",
              "      <th>3</th>\n",
              "      <td>Busia</td>\n",
              "      <td>40.70</td>\n",
              "      <td>42.80</td>\n",
              "      <td>20</td>\n",
              "    </tr>\n",
              "    <tr>\n",
              "      <th>4</th>\n",
              "      <td>Elgeyo/Marakwet</td>\n",
              "      <td>7.50</td>\n",
              "      <td>9.40</td>\n",
              "      <td>48</td>\n",
              "    </tr>\n",
              "  </tbody>\n",
              "</table>\n",
              "</div>"
            ],
            "text/plain": [
              "            county  ... health_spending_per_person\n",
              "0          Baringo  ...                         29\n",
              "1            Bomet  ...                         20\n",
              "2          Bungoma  ...                         20\n",
              "3            Busia  ...                         20\n",
              "4  Elgeyo/Marakwet  ...                         48\n",
              "\n",
              "[5 rows x 4 columns]"
            ]
          },
          "metadata": {
            "tags": []
          },
          "execution_count": 20
        }
      ]
    },
    {
      "cell_type": "code",
      "metadata": {
        "id": "9Es5Qt5WBF1u",
        "colab_type": "code",
        "outputId": "69f34e49-cb1e-4f44-f50f-5a9edcbf6392",
        "colab": {
          "base_uri": "https://localhost:8080/",
          "height": 102
        }
      },
      "source": [
        "# Final check for null before export.\n",
        "#\n",
        "df.isnull().sum()"
      ],
      "execution_count": 0,
      "outputs": [
        {
          "output_type": "execute_result",
          "data": {
            "text/plain": [
              "county                             0\n",
              "pct_that_slept_under_a_bed_net     0\n",
              "pct_that_had_a_fever_or_malaria    0\n",
              "health_spending_per_person         0\n",
              "dtype: int64"
            ]
          },
          "metadata": {
            "tags": []
          },
          "execution_count": 21
        }
      ]
    },
    {
      "cell_type": "markdown",
      "metadata": {
        "id": "JgPi2HUN_1g5",
        "colab_type": "text"
      },
      "source": [
        "####**Exporting the dataset**"
      ]
    },
    {
      "cell_type": "code",
      "metadata": {
        "id": "ziRxL8aq6hqB",
        "colab_type": "code",
        "colab": {}
      },
      "source": [
        "# Exporting the cleaned dataset\n",
        "df.to_csv('health_counties.csv')"
      ],
      "execution_count": 0,
      "outputs": []
    },
    {
      "cell_type": "markdown",
      "metadata": {
        "id": "vx4OZTIGB-Zr",
        "colab_type": "text"
      },
      "source": [
        "### Analysis"
      ]
    },
    {
      "cell_type": "markdown",
      "metadata": {
        "id": "6ikDkBsWCo0k",
        "colab_type": "text"
      },
      "source": [
        "#### Loading the SQL extension"
      ]
    },
    {
      "cell_type": "code",
      "metadata": {
        "id": "uetP3VrMCoYc",
        "colab_type": "code",
        "outputId": "e984fbdc-3c50-417f-9164-b29800c95f8b",
        "colab": {
          "base_uri": "https://localhost:8080/",
          "height": 34
        }
      },
      "source": [
        "##\n",
        "## Loading the sql\n",
        "#\n",
        "%load_ext sql\n",
        "\n",
        "%sql sqlite://"
      ],
      "execution_count": 0,
      "outputs": [
        {
          "output_type": "execute_result",
          "data": {
            "text/plain": [
              "'Connected: @None'"
            ]
          },
          "metadata": {
            "tags": []
          },
          "execution_count": 23
        }
      ]
    },
    {
      "cell_type": "markdown",
      "metadata": {
        "id": "D6ioXWD3C1z9",
        "colab_type": "text"
      },
      "source": [
        "#### Loading the CSV dataset"
      ]
    },
    {
      "cell_type": "code",
      "metadata": {
        "id": "yUnaywGTCoUc",
        "colab_type": "code",
        "outputId": "75dc2627-22d7-4316-af91-8022d7f1768f",
        "colab": {
          "base_uri": "https://localhost:8080/",
          "height": 230
        }
      },
      "source": [
        "##\n",
        "## \n",
        "# Loading our table from the respective CSV files \n",
        "with open('health_counties.csv','r') as f:\n",
        "    counties = pd.read_csv(f, index_col=0, encoding='utf-8')\n",
        "%sql DROP TABLE if EXISTS counties;\n",
        "%sql PERSIST counties;\n",
        "%sql SELECT * FROM counties LIMIT 5;"
      ],
      "execution_count": 0,
      "outputs": [
        {
          "output_type": "stream",
          "text": [
            " * sqlite://\n",
            "Done.\n",
            " * sqlite://\n",
            " * sqlite://\n",
            "Done.\n"
          ],
          "name": "stdout"
        },
        {
          "output_type": "execute_result",
          "data": {
            "text/html": [
              "<table>\n",
              "    <tr>\n",
              "        <th>index</th>\n",
              "        <th>county</th>\n",
              "        <th>pct_that_slept_under_a_bed_net</th>\n",
              "        <th>pct_that_had_a_fever_or_malaria</th>\n",
              "        <th>health_spending_per_person</th>\n",
              "    </tr>\n",
              "    <tr>\n",
              "        <td>0</td>\n",
              "        <td>Baringo</td>\n",
              "        <td>24.2</td>\n",
              "        <td>14.9</td>\n",
              "        <td>29</td>\n",
              "    </tr>\n",
              "    <tr>\n",
              "        <td>1</td>\n",
              "        <td>Bomet</td>\n",
              "        <td>26.3</td>\n",
              "        <td>39.5</td>\n",
              "        <td>20</td>\n",
              "    </tr>\n",
              "    <tr>\n",
              "        <td>2</td>\n",
              "        <td>Bungoma</td>\n",
              "        <td>27.8</td>\n",
              "        <td>37.6</td>\n",
              "        <td>20</td>\n",
              "    </tr>\n",
              "    <tr>\n",
              "        <td>3</td>\n",
              "        <td>Busia</td>\n",
              "        <td>40.7</td>\n",
              "        <td>42.8</td>\n",
              "        <td>20</td>\n",
              "    </tr>\n",
              "    <tr>\n",
              "        <td>4</td>\n",
              "        <td>Elgeyo/Marakwet</td>\n",
              "        <td>7.5</td>\n",
              "        <td>9.4</td>\n",
              "        <td>48</td>\n",
              "    </tr>\n",
              "</table>"
            ],
            "text/plain": [
              "[(0, 'Baringo', 24.2, 14.9, 29),\n",
              " (1, 'Bomet', 26.3, 39.5, 20),\n",
              " (2, 'Bungoma', 27.8, 37.6, 20),\n",
              " (3, 'Busia', 40.7, 42.8, 20),\n",
              " (4, 'Elgeyo/Marakwet', 7.5, 9.4, 48)]"
            ]
          },
          "metadata": {
            "tags": []
          },
          "execution_count": 24
        }
      ]
    },
    {
      "cell_type": "code",
      "metadata": {
        "id": "MY5c_1UnAQxE",
        "colab_type": "code",
        "outputId": "67874b0b-5850-467b-aeae-9ce5e6f3aa4e",
        "colab": {
          "base_uri": "https://localhost:8080/",
          "height": 95
        }
      },
      "source": [
        "## Which county had the highest % of population sleeping under a bednet\n",
        "##\n",
        "%%sql \n",
        "SELECT county, MAX(pct_that_slept_under_a_bed_net) AS high_pct_slept_under_net \n",
        "FROM counties;"
      ],
      "execution_count": 0,
      "outputs": [
        {
          "output_type": "stream",
          "text": [
            " * sqlite://\n",
            "Done.\n"
          ],
          "name": "stdout"
        },
        {
          "output_type": "execute_result",
          "data": {
            "text/html": [
              "<table>\n",
              "    <tr>\n",
              "        <th>county</th>\n",
              "        <th>high_pct_slept_under_net</th>\n",
              "    </tr>\n",
              "    <tr>\n",
              "        <td>Kisumu</td>\n",
              "        <td>62.4</td>\n",
              "    </tr>\n",
              "</table>"
            ],
            "text/plain": [
              "[('Kisumu', 62.4)]"
            ]
          },
          "metadata": {
            "tags": []
          },
          "execution_count": 25
        }
      ]
    },
    {
      "cell_type": "markdown",
      "metadata": {
        "id": "3dCDAzKfKe9t",
        "colab_type": "text"
      },
      "source": [
        "\n",
        "\n",
        "> The county that had the highest percentage of population who are sleeping under a net is **Kisumu** with **62.4%**\n",
        "\n",
        "\n",
        "\n"
      ]
    },
    {
      "cell_type": "code",
      "metadata": {
        "id": "gUSszBG_Kdox",
        "colab_type": "code",
        "outputId": "01829f05-6b80-4afd-9ef4-6fe86dbe5e52",
        "colab": {
          "base_uri": "https://localhost:8080/",
          "height": 95
        }
      },
      "source": [
        "## County with the least % sleeping under a bed net\n",
        "##\n",
        "%%sql\n",
        "SELECT county, MIN(pct_that_slept_under_a_bed_net) AS low_pct_slept_under_net\n",
        "FROM counties;"
      ],
      "execution_count": 0,
      "outputs": [
        {
          "output_type": "stream",
          "text": [
            " * sqlite://\n",
            "Done.\n"
          ],
          "name": "stdout"
        },
        {
          "output_type": "execute_result",
          "data": {
            "text/html": [
              "<table>\n",
              "    <tr>\n",
              "        <th>county</th>\n",
              "        <th>low_pct_slept_under_net</th>\n",
              "    </tr>\n",
              "    <tr>\n",
              "        <td>Nyandarua</td>\n",
              "        <td>1.7</td>\n",
              "    </tr>\n",
              "</table>"
            ],
            "text/plain": [
              "[('Nyandarua', 1.7)]"
            ]
          },
          "metadata": {
            "tags": []
          },
          "execution_count": 26
        }
      ]
    },
    {
      "cell_type": "markdown",
      "metadata": {
        "id": "DJtoYtY7LS3b",
        "colab_type": "text"
      },
      "source": [
        "\n",
        "\n",
        "> The county that had the lowest percentage of population who are sleeping under a net is **Nyandarua** with **1.7%**\n",
        "\n"
      ]
    },
    {
      "cell_type": "code",
      "metadata": {
        "id": "B1gamxCjLeML",
        "colab_type": "code",
        "outputId": "7d6549d7-f26f-4d38-e7ca-58c629ebaa54",
        "colab": {
          "base_uri": "https://localhost:8080/",
          "height": 95
        }
      },
      "source": [
        "## County with highest % presenting with symptopms .. is it the same county with the least bednet usage\n",
        "##\n",
        "%%sql\n",
        "SELECT county, MAX(pct_that_had_a_fever_or_malaria) \n",
        "FROM counties;"
      ],
      "execution_count": 0,
      "outputs": [
        {
          "output_type": "stream",
          "text": [
            " * sqlite://\n",
            "Done.\n"
          ],
          "name": "stdout"
        },
        {
          "output_type": "execute_result",
          "data": {
            "text/html": [
              "<table>\n",
              "    <tr>\n",
              "        <th>county</th>\n",
              "        <th>MAX(pct_that_had_a_fever_or_malaria)</th>\n",
              "    </tr>\n",
              "    <tr>\n",
              "        <td>Lamu</td>\n",
              "        <td>63.3</td>\n",
              "    </tr>\n",
              "</table>"
            ],
            "text/plain": [
              "[('Lamu', 63.3)]"
            ]
          },
          "metadata": {
            "tags": []
          },
          "execution_count": 27
        }
      ]
    },
    {
      "cell_type": "markdown",
      "metadata": {
        "id": "sFNujDJrp_aJ",
        "colab_type": "text"
      },
      "source": [
        "\n",
        "\n",
        "> The county with the highest percentage of malaria **Lamu** isn't the same county with the least percentage of net usage **Nyandarua**\n",
        "\n"
      ]
    },
    {
      "cell_type": "code",
      "metadata": {
        "id": "Y3XMpRL4NVRJ",
        "colab_type": "code",
        "outputId": "85bc3715-a59a-4989-96a5-8d27c61a8a7d",
        "colab": {
          "base_uri": "https://localhost:8080/",
          "height": 95
        }
      },
      "source": [
        "##  County with the least % presenting with symptoms ..is it the same county with the highest bednet usage\n",
        "##\n",
        "%%sql\n",
        "SELECT county, MIN(pct_that_had_a_fever_or_malaria) \n",
        "FROM counties;"
      ],
      "execution_count": 0,
      "outputs": [
        {
          "output_type": "stream",
          "text": [
            " * sqlite://\n",
            "Done.\n"
          ],
          "name": "stdout"
        },
        {
          "output_type": "execute_result",
          "data": {
            "text/html": [
              "<table>\n",
              "    <tr>\n",
              "        <th>county</th>\n",
              "        <th>MIN(pct_that_had_a_fever_or_malaria)</th>\n",
              "    </tr>\n",
              "    <tr>\n",
              "        <td>Nakuru</td>\n",
              "        <td>0.0</td>\n",
              "    </tr>\n",
              "</table>"
            ],
            "text/plain": [
              "[('Nakuru', 0.0)]"
            ]
          },
          "metadata": {
            "tags": []
          },
          "execution_count": 28
        }
      ]
    },
    {
      "cell_type": "markdown",
      "metadata": {
        "id": "-bxS0ux5rWwA",
        "colab_type": "text"
      },
      "source": [
        "\n",
        "\n",
        "> The county with the least percentage of malaria **Nakuru** isn't the same county with the highest percentage of net usage **Kisumu**\n",
        "\n"
      ]
    },
    {
      "cell_type": "code",
      "metadata": {
        "id": "WsCCXf2R7MDf",
        "colab_type": "code",
        "outputId": "af8f34dc-236c-44f1-db5e-3109d0a6a86c",
        "colab": {
          "base_uri": "https://localhost:8080/",
          "height": 95
        }
      },
      "source": [
        "## Average percentage of those who slept under a bed net.\n",
        "##\n",
        "%%sql\n",
        "SELECT AVG(pct_that_slept_under_a_bed_net) AS avg_sleep_under_net\n",
        "FROM counties;"
      ],
      "execution_count": 0,
      "outputs": [
        {
          "output_type": "stream",
          "text": [
            " * sqlite://\n",
            "Done.\n"
          ],
          "name": "stdout"
        },
        {
          "output_type": "execute_result",
          "data": {
            "text/html": [
              "<table>\n",
              "    <tr>\n",
              "        <th>avg_sleep_under_net</th>\n",
              "    </tr>\n",
              "    <tr>\n",
              "        <td>26.72978723404255</td>\n",
              "    </tr>\n",
              "</table>"
            ],
            "text/plain": [
              "[(26.72978723404255,)]"
            ]
          },
          "metadata": {
            "tags": []
          },
          "execution_count": 56
        }
      ]
    },
    {
      "cell_type": "code",
      "metadata": {
        "id": "rleZmRMH7lSW",
        "colab_type": "code",
        "outputId": "5d35480c-5b03-405f-da20-1d825a993245",
        "colab": {
          "base_uri": "https://localhost:8080/",
          "height": 95
        }
      },
      "source": [
        "## Average percentage of those who have malaria.\n",
        "##\n",
        "%%sql\n",
        "SELECT AVG(pct_that_had_a_fever_or_malaria) AS avg_malaria\n",
        "FROM counties;"
      ],
      "execution_count": 0,
      "outputs": [
        {
          "output_type": "stream",
          "text": [
            " * sqlite://\n",
            "Done.\n"
          ],
          "name": "stdout"
        },
        {
          "output_type": "execute_result",
          "data": {
            "text/html": [
              "<table>\n",
              "    <tr>\n",
              "        <th>avg_malaria</th>\n",
              "    </tr>\n",
              "    <tr>\n",
              "        <td>40.1808510638298</td>\n",
              "    </tr>\n",
              "</table>"
            ],
            "text/plain": [
              "[(40.1808510638298,)]"
            ]
          },
          "metadata": {
            "tags": []
          },
          "execution_count": 57
        }
      ]
    },
    {
      "cell_type": "code",
      "metadata": {
        "id": "dmGIicTxNv6q",
        "colab_type": "code",
        "outputId": "b02007bf-2103-4d5d-b937-902b98d57b7e",
        "colab": {
          "base_uri": "https://localhost:8080/",
          "height": 599
        }
      },
      "source": [
        "## Top 5 Counties that are really in need of insecticide treated bednets.\n",
        "##\n",
        "%%sql\n",
        "SELECT county, pct_that_slept_under_a_bed_net, pct_that_had_a_fever_or_malaria \n",
        "FROM counties\n",
        "WHERE pct_that_had_a_fever_or_malaria > (SELECT AVG(pct_that_had_a_fever_or_malaria) FROM counties)\n",
        "ORDER BY pct_that_had_a_fever_or_malaria DESC;"
      ],
      "execution_count": 0,
      "outputs": [
        {
          "output_type": "stream",
          "text": [
            " * sqlite://\n",
            "Done.\n"
          ],
          "name": "stdout"
        },
        {
          "output_type": "execute_result",
          "data": {
            "text/html": [
              "<table>\n",
              "    <tr>\n",
              "        <th>county</th>\n",
              "        <th>pct_that_slept_under_a_bed_net</th>\n",
              "        <th>pct_that_had_a_fever_or_malaria</th>\n",
              "    </tr>\n",
              "    <tr>\n",
              "        <td>Lamu</td>\n",
              "        <td>51.3</td>\n",
              "        <td>63.3</td>\n",
              "    </tr>\n",
              "    <tr>\n",
              "        <td>Tana River</td>\n",
              "        <td>45.1</td>\n",
              "        <td>63.3</td>\n",
              "    </tr>\n",
              "    <tr>\n",
              "        <td>Migori</td>\n",
              "        <td>40.1</td>\n",
              "        <td>63.0</td>\n",
              "    </tr>\n",
              "    <tr>\n",
              "        <td>West Pokot</td>\n",
              "        <td>15.9</td>\n",
              "        <td>60.4</td>\n",
              "    </tr>\n",
              "    <tr>\n",
              "        <td>Homa Bay</td>\n",
              "        <td>39.6</td>\n",
              "        <td>58.3</td>\n",
              "    </tr>\n",
              "    <tr>\n",
              "        <td>Narok</td>\n",
              "        <td>12.9</td>\n",
              "        <td>55.8</td>\n",
              "    </tr>\n",
              "    <tr>\n",
              "        <td>Turkana</td>\n",
              "        <td>6.0</td>\n",
              "        <td>55.4</td>\n",
              "    </tr>\n",
              "    <tr>\n",
              "        <td>Wajir</td>\n",
              "        <td>18.3</td>\n",
              "        <td>54.8</td>\n",
              "    </tr>\n",
              "    <tr>\n",
              "        <td>Siaya</td>\n",
              "        <td>46.7</td>\n",
              "        <td>54.4</td>\n",
              "    </tr>\n",
              "    <tr>\n",
              "        <td>Kericho</td>\n",
              "        <td>33.8</td>\n",
              "        <td>51.6</td>\n",
              "    </tr>\n",
              "    <tr>\n",
              "        <td>Makueni</td>\n",
              "        <td>10.8</td>\n",
              "        <td>51.1</td>\n",
              "    </tr>\n",
              "    <tr>\n",
              "        <td>Nandi</td>\n",
              "        <td>18.9</td>\n",
              "        <td>50.9</td>\n",
              "    </tr>\n",
              "    <tr>\n",
              "        <td>Kitui</td>\n",
              "        <td>13.0</td>\n",
              "        <td>50.5</td>\n",
              "    </tr>\n",
              "    <tr>\n",
              "        <td>Kisii</td>\n",
              "        <td>37.8</td>\n",
              "        <td>49.0</td>\n",
              "    </tr>\n",
              "    <tr>\n",
              "        <td>Taita Taveta</td>\n",
              "        <td>30.8</td>\n",
              "        <td>48.8</td>\n",
              "    </tr>\n",
              "    <tr>\n",
              "        <td>Mombasa</td>\n",
              "        <td>50.6</td>\n",
              "        <td>48.0</td>\n",
              "    </tr>\n",
              "    <tr>\n",
              "        <td>Garissa</td>\n",
              "        <td>38.4</td>\n",
              "        <td>46.6</td>\n",
              "    </tr>\n",
              "    <tr>\n",
              "        <td>Kisumu</td>\n",
              "        <td>62.4</td>\n",
              "        <td>45.6</td>\n",
              "    </tr>\n",
              "    <tr>\n",
              "        <td>Kilifi</td>\n",
              "        <td>38.5</td>\n",
              "        <td>45.4</td>\n",
              "    </tr>\n",
              "    <tr>\n",
              "        <td>Marsabit</td>\n",
              "        <td>11.1</td>\n",
              "        <td>44.0</td>\n",
              "    </tr>\n",
              "    <tr>\n",
              "        <td>Uasin Gishu</td>\n",
              "        <td>33.6</td>\n",
              "        <td>43.4</td>\n",
              "    </tr>\n",
              "    <tr>\n",
              "        <td>Kirinyaga</td>\n",
              "        <td>30.0</td>\n",
              "        <td>43.2</td>\n",
              "    </tr>\n",
              "    <tr>\n",
              "        <td>Busia</td>\n",
              "        <td>40.7</td>\n",
              "        <td>42.8</td>\n",
              "    </tr>\n",
              "    <tr>\n",
              "        <td>Meru</td>\n",
              "        <td>24.0</td>\n",
              "        <td>42.6</td>\n",
              "    </tr>\n",
              "    <tr>\n",
              "        <td>Machakos</td>\n",
              "        <td>31.7</td>\n",
              "        <td>40.9</td>\n",
              "    </tr>\n",
              "</table>"
            ],
            "text/plain": [
              "[('Lamu', 51.3, 63.3),\n",
              " ('Tana River', 45.1, 63.3),\n",
              " ('Migori', 40.1, 63.0),\n",
              " ('West Pokot', 15.9, 60.4),\n",
              " ('Homa Bay', 39.6, 58.3),\n",
              " ('Narok', 12.9, 55.8),\n",
              " ('Turkana', 6.0, 55.4),\n",
              " ('Wajir', 18.3, 54.8),\n",
              " ('Siaya', 46.7, 54.4),\n",
              " ('Kericho', 33.8, 51.6),\n",
              " ('Makueni', 10.8, 51.1),\n",
              " ('Nandi', 18.9, 50.9),\n",
              " ('Kitui', 13.0, 50.5),\n",
              " ('Kisii', 37.8, 49.0),\n",
              " ('Taita Taveta', 30.8, 48.8),\n",
              " ('Mombasa', 50.6, 48.0),\n",
              " ('Garissa', 38.4, 46.6),\n",
              " ('Kisumu', 62.4, 45.6),\n",
              " ('Kilifi', 38.5, 45.4),\n",
              " ('Marsabit', 11.1, 44.0),\n",
              " ('Uasin Gishu', 33.6, 43.4),\n",
              " ('Kirinyaga', 30.0, 43.2),\n",
              " ('Busia', 40.7, 42.8),\n",
              " ('Meru', 24.0, 42.6),\n",
              " ('Machakos', 31.7, 40.9)]"
            ]
          },
          "metadata": {
            "tags": []
          },
          "execution_count": 90
        }
      ]
    },
    {
      "cell_type": "code",
      "metadata": {
        "id": "VfigafS2PwEg",
        "colab_type": "code",
        "outputId": "10114de5-fe0b-4759-c9c9-077f3d151410",
        "colab": {
          "base_uri": "https://localhost:8080/",
          "height": 536
        }
      },
      "source": [
        "## Top 5 Counties that are least in need of insecticide treated bednets.\n",
        "##\n",
        "%%sql\n",
        "SELECT county, pct_that_slept_under_a_bed_net, pct_that_had_a_fever_or_malaria\n",
        "FROM counties\n",
        "WHERE pct_that_had_a_fever_or_malaria < (SELECT AVG(pct_that_had_a_fever_or_malaria) FROM counties)\n",
        "ORDER BY pct_that_had_a_fever_or_malaria ASC;"
      ],
      "execution_count": 0,
      "outputs": [
        {
          "output_type": "stream",
          "text": [
            " * sqlite://\n",
            "Done.\n"
          ],
          "name": "stdout"
        },
        {
          "output_type": "execute_result",
          "data": {
            "text/html": [
              "<table>\n",
              "    <tr>\n",
              "        <th>county</th>\n",
              "        <th>pct_that_slept_under_a_bed_net</th>\n",
              "        <th>pct_that_had_a_fever_or_malaria</th>\n",
              "    </tr>\n",
              "    <tr>\n",
              "        <td>Nakuru</td>\n",
              "        <td>9.8</td>\n",
              "        <td>0.0</td>\n",
              "    </tr>\n",
              "    <tr>\n",
              "        <td>Elgeyo/Marakwet</td>\n",
              "        <td>7.5</td>\n",
              "        <td>9.4</td>\n",
              "    </tr>\n",
              "    <tr>\n",
              "        <td>Kajiado</td>\n",
              "        <td>30.4</td>\n",
              "        <td>12.3</td>\n",
              "    </tr>\n",
              "    <tr>\n",
              "        <td>Nyeri</td>\n",
              "        <td>5.7</td>\n",
              "        <td>13.4</td>\n",
              "    </tr>\n",
              "    <tr>\n",
              "        <td>Nyandarua</td>\n",
              "        <td>1.7</td>\n",
              "        <td>14.4</td>\n",
              "    </tr>\n",
              "    <tr>\n",
              "        <td>Baringo</td>\n",
              "        <td>24.2</td>\n",
              "        <td>14.9</td>\n",
              "    </tr>\n",
              "    <tr>\n",
              "        <td>Laikipia</td>\n",
              "        <td>12.3</td>\n",
              "        <td>14.9</td>\n",
              "    </tr>\n",
              "    <tr>\n",
              "        <td>Kiambu</td>\n",
              "        <td>14.5</td>\n",
              "        <td>22.8</td>\n",
              "    </tr>\n",
              "    <tr>\n",
              "        <td>Vihiga</td>\n",
              "        <td>28.5</td>\n",
              "        <td>33.4</td>\n",
              "    </tr>\n",
              "    <tr>\n",
              "        <td>Isiolo</td>\n",
              "        <td>42.6</td>\n",
              "        <td>33.7</td>\n",
              "    </tr>\n",
              "    <tr>\n",
              "        <td>Tharaka Nithi</td>\n",
              "        <td>41.3</td>\n",
              "        <td>33.8</td>\n",
              "    </tr>\n",
              "    <tr>\n",
              "        <td>Trans Nzoia</td>\n",
              "        <td>23.0</td>\n",
              "        <td>34.8</td>\n",
              "    </tr>\n",
              "    <tr>\n",
              "        <td>Mandera</td>\n",
              "        <td>4.6</td>\n",
              "        <td>35.2</td>\n",
              "    </tr>\n",
              "    <tr>\n",
              "        <td>Murang&#x27;a</td>\n",
              "        <td>11.4</td>\n",
              "        <td>36.2</td>\n",
              "    </tr>\n",
              "    <tr>\n",
              "        <td>Samburu</td>\n",
              "        <td>3.2</td>\n",
              "        <td>37.1</td>\n",
              "    </tr>\n",
              "    <tr>\n",
              "        <td>Bungoma</td>\n",
              "        <td>27.8</td>\n",
              "        <td>37.6</td>\n",
              "    </tr>\n",
              "    <tr>\n",
              "        <td>Kwale</td>\n",
              "        <td>32.1</td>\n",
              "        <td>37.7</td>\n",
              "    </tr>\n",
              "    <tr>\n",
              "        <td>Nairobi</td>\n",
              "        <td>38.0</td>\n",
              "        <td>37.7</td>\n",
              "    </tr>\n",
              "    <tr>\n",
              "        <td>Kakamega</td>\n",
              "        <td>26.7</td>\n",
              "        <td>37.9</td>\n",
              "    </tr>\n",
              "    <tr>\n",
              "        <td>Nyamira</td>\n",
              "        <td>40.9</td>\n",
              "        <td>38.9</td>\n",
              "    </tr>\n",
              "    <tr>\n",
              "        <td>Bomet</td>\n",
              "        <td>26.3</td>\n",
              "        <td>39.5</td>\n",
              "    </tr>\n",
              "    <tr>\n",
              "        <td>Embu</td>\n",
              "        <td>21.8</td>\n",
              "        <td>39.8</td>\n",
              "    </tr>\n",
              "</table>"
            ],
            "text/plain": [
              "[('Nakuru', 9.8, 0.0),\n",
              " ('Elgeyo/Marakwet', 7.5, 9.4),\n",
              " ('Kajiado', 30.4, 12.3),\n",
              " ('Nyeri', 5.7, 13.4),\n",
              " ('Nyandarua', 1.7, 14.4),\n",
              " ('Baringo', 24.2, 14.9),\n",
              " ('Laikipia', 12.3, 14.9),\n",
              " ('Kiambu', 14.5, 22.8),\n",
              " ('Vihiga', 28.5, 33.4),\n",
              " ('Isiolo', 42.6, 33.7),\n",
              " ('Tharaka Nithi', 41.3, 33.8),\n",
              " ('Trans Nzoia', 23.0, 34.8),\n",
              " ('Mandera', 4.6, 35.2),\n",
              " (\"Murang'a\", 11.4, 36.2),\n",
              " ('Samburu', 3.2, 37.1),\n",
              " ('Bungoma', 27.8, 37.6),\n",
              " ('Kwale', 32.1, 37.7),\n",
              " ('Nairobi', 38.0, 37.7),\n",
              " ('Kakamega', 26.7, 37.9),\n",
              " ('Nyamira', 40.9, 38.9),\n",
              " ('Bomet', 26.3, 39.5),\n",
              " ('Embu', 21.8, 39.8)]"
            ]
          },
          "metadata": {
            "tags": []
          },
          "execution_count": 76
        }
      ]
    },
    {
      "cell_type": "code",
      "metadata": {
        "id": "4fEJFfGtOZmW",
        "colab_type": "code",
        "outputId": "91904933-3b6a-4de8-fd91-6313eabbb827",
        "colab": {
          "base_uri": "https://localhost:8080/",
          "height": 95
        }
      },
      "source": [
        "## Getting the county with the highest health spending per person\n",
        "## \n",
        "%%sql\n",
        "SELECT county,pct_that_slept_under_a_bed_net, pct_that_had_a_fever_or_malaria, MAX(health_spending_per_person) AS high_health_spending\n",
        "FROM counties;"
      ],
      "execution_count": 0,
      "outputs": [
        {
          "output_type": "stream",
          "text": [
            " * sqlite://\n",
            "Done.\n"
          ],
          "name": "stdout"
        },
        {
          "output_type": "execute_result",
          "data": {
            "text/html": [
              "<table>\n",
              "    <tr>\n",
              "        <th>county</th>\n",
              "        <th>pct_that_slept_under_a_bed_net</th>\n",
              "        <th>pct_that_had_a_fever_or_malaria</th>\n",
              "        <th>high_health_spending</th>\n",
              "    </tr>\n",
              "    <tr>\n",
              "        <td>Lamu</td>\n",
              "        <td>51.3</td>\n",
              "        <td>63.3</td>\n",
              "        <td>50</td>\n",
              "    </tr>\n",
              "</table>"
            ],
            "text/plain": [
              "[('Lamu', 51.3, 63.3, 50)]"
            ]
          },
          "metadata": {
            "tags": []
          },
          "execution_count": 39
        }
      ]
    },
    {
      "cell_type": "markdown",
      "metadata": {
        "id": "9SyiF1MJRM1Z",
        "colab_type": "text"
      },
      "source": [
        "\n",
        "\n",
        "> The county with the highest health spending per person is **Lamu** at **50%**\n",
        "\n"
      ]
    },
    {
      "cell_type": "code",
      "metadata": {
        "id": "E87v0p_fQBV7",
        "colab_type": "code",
        "outputId": "9b1b9ba6-c0d8-46a3-e798-1574b308bb5a",
        "colab": {
          "base_uri": "https://localhost:8080/",
          "height": 95
        }
      },
      "source": [
        "## Getting the county with the least health spending per person.\n",
        "##\n",
        "#\n",
        "%%sql\n",
        "SELECT county,pct_that_slept_under_a_bed_net, pct_that_had_a_fever_or_malaria, MIN(health_spending_per_person) AS least_health_spending\n",
        "FROM counties;"
      ],
      "execution_count": 0,
      "outputs": [
        {
          "output_type": "stream",
          "text": [
            " * sqlite://\n",
            "Done.\n"
          ],
          "name": "stdout"
        },
        {
          "output_type": "execute_result",
          "data": {
            "text/html": [
              "<table>\n",
              "    <tr>\n",
              "        <th>county</th>\n",
              "        <th>pct_that_slept_under_a_bed_net</th>\n",
              "        <th>pct_that_had_a_fever_or_malaria</th>\n",
              "        <th>least_health_spending</th>\n",
              "    </tr>\n",
              "    <tr>\n",
              "        <td>Nairobi</td>\n",
              "        <td>38.0</td>\n",
              "        <td>37.7</td>\n",
              "        <td>7</td>\n",
              "    </tr>\n",
              "</table>"
            ],
            "text/plain": [
              "[('Nairobi', 38.0, 37.7, 7)]"
            ]
          },
          "metadata": {
            "tags": []
          },
          "execution_count": 40
        }
      ]
    },
    {
      "cell_type": "markdown",
      "metadata": {
        "id": "BLVle309R1N1",
        "colab_type": "text"
      },
      "source": [
        "\n",
        "\n",
        "> The county with the lowest health spending per person is **Nairobi** at **7%**\n",
        "\n"
      ]
    },
    {
      "cell_type": "code",
      "metadata": {
        "id": "0H4eNQ7KVIsl",
        "colab_type": "code",
        "outputId": "28617b4d-298e-43ff-dfa6-3a13a69f9cfd",
        "colab": {
          "base_uri": "https://localhost:8080/",
          "height": 95
        }
      },
      "source": [
        "## Calculating the average health spending in Kenya\n",
        "## \n",
        "#\n",
        "%%sql\n",
        "SELECT AVG(health_spending_per_person) AS avg_spending\n",
        "FROM counties;"
      ],
      "execution_count": 0,
      "outputs": [
        {
          "output_type": "stream",
          "text": [
            " * sqlite://\n",
            "Done.\n"
          ],
          "name": "stdout"
        },
        {
          "output_type": "execute_result",
          "data": {
            "text/html": [
              "<table>\n",
              "    <tr>\n",
              "        <th>avg_spending</th>\n",
              "    </tr>\n",
              "    <tr>\n",
              "        <td>24.04255319148936</td>\n",
              "    </tr>\n",
              "</table>"
            ],
            "text/plain": [
              "[(24.04255319148936,)]"
            ]
          },
          "metadata": {
            "tags": []
          },
          "execution_count": 33
        }
      ]
    },
    {
      "cell_type": "markdown",
      "metadata": {
        "id": "OTQR18hnVuEn",
        "colab_type": "text"
      },
      "source": [
        "\n",
        "\n",
        "> The average health spending in Kenya is at **24%**\n",
        "\n"
      ]
    },
    {
      "cell_type": "code",
      "metadata": {
        "id": "AELGFT3MXHCk",
        "colab_type": "code",
        "outputId": "f825d717-e4cd-4a9a-a2f3-06b35941379a",
        "colab": {
          "base_uri": "https://localhost:8080/",
          "height": 725
        }
      },
      "source": [
        "\n",
        "## Counties that spend below the averge of health spending in Kenya.\n",
        "## \n",
        "#\n",
        "%%sql\n",
        "SELECT county, pct_that_slept_under_a_bed_net, pct_that_had_a_fever_or_malaria, health_spending_per_person \n",
        "FROM counties \n",
        "WHERE health_spending_per_person < (SELECT AVG(health_spending_per_person) FROM counties)\n",
        "ORDER BY health_spending_per_person ASC;"
      ],
      "execution_count": 0,
      "outputs": [
        {
          "output_type": "stream",
          "text": [
            " * sqlite://\n",
            "Done.\n"
          ],
          "name": "stdout"
        },
        {
          "output_type": "execute_result",
          "data": {
            "text/html": [
              "<table>\n",
              "    <tr>\n",
              "        <th>county</th>\n",
              "        <th>pct_that_slept_under_a_bed_net</th>\n",
              "        <th>pct_that_had_a_fever_or_malaria</th>\n",
              "        <th>health_spending_per_person</th>\n",
              "    </tr>\n",
              "    <tr>\n",
              "        <td>Nairobi</td>\n",
              "        <td>38.0</td>\n",
              "        <td>37.7</td>\n",
              "        <td>7</td>\n",
              "    </tr>\n",
              "    <tr>\n",
              "        <td>Narok</td>\n",
              "        <td>12.9</td>\n",
              "        <td>55.8</td>\n",
              "        <td>7</td>\n",
              "    </tr>\n",
              "    <tr>\n",
              "        <td>Trans Nzoia</td>\n",
              "        <td>23.0</td>\n",
              "        <td>34.8</td>\n",
              "        <td>8</td>\n",
              "    </tr>\n",
              "    <tr>\n",
              "        <td>Vihiga</td>\n",
              "        <td>28.5</td>\n",
              "        <td>33.4</td>\n",
              "        <td>10</td>\n",
              "    </tr>\n",
              "    <tr>\n",
              "        <td>Kericho</td>\n",
              "        <td>33.8</td>\n",
              "        <td>51.6</td>\n",
              "        <td>11</td>\n",
              "    </tr>\n",
              "    <tr>\n",
              "        <td>Mombasa</td>\n",
              "        <td>50.6</td>\n",
              "        <td>48.0</td>\n",
              "        <td>11</td>\n",
              "    </tr>\n",
              "    <tr>\n",
              "        <td>Nakuru</td>\n",
              "        <td>9.8</td>\n",
              "        <td>0.0</td>\n",
              "        <td>11</td>\n",
              "    </tr>\n",
              "    <tr>\n",
              "        <td>Uasin Gishu</td>\n",
              "        <td>33.6</td>\n",
              "        <td>43.4</td>\n",
              "        <td>13</td>\n",
              "    </tr>\n",
              "    <tr>\n",
              "        <td>Turkana</td>\n",
              "        <td>6.0</td>\n",
              "        <td>55.4</td>\n",
              "        <td>14</td>\n",
              "    </tr>\n",
              "    <tr>\n",
              "        <td>Kajiado</td>\n",
              "        <td>30.4</td>\n",
              "        <td>12.3</td>\n",
              "        <td>15</td>\n",
              "    </tr>\n",
              "    <tr>\n",
              "        <td>Makueni</td>\n",
              "        <td>10.8</td>\n",
              "        <td>51.1</td>\n",
              "        <td>15</td>\n",
              "    </tr>\n",
              "    <tr>\n",
              "        <td>Machakos</td>\n",
              "        <td>31.7</td>\n",
              "        <td>40.9</td>\n",
              "        <td>16</td>\n",
              "    </tr>\n",
              "    <tr>\n",
              "        <td>Nyandarua</td>\n",
              "        <td>1.7</td>\n",
              "        <td>14.4</td>\n",
              "        <td>17</td>\n",
              "    </tr>\n",
              "    <tr>\n",
              "        <td>Kirinyaga</td>\n",
              "        <td>30.0</td>\n",
              "        <td>43.2</td>\n",
              "        <td>18</td>\n",
              "    </tr>\n",
              "    <tr>\n",
              "        <td>Tharaka Nithi</td>\n",
              "        <td>41.3</td>\n",
              "        <td>33.8</td>\n",
              "        <td>18</td>\n",
              "    </tr>\n",
              "    <tr>\n",
              "        <td>Tana River</td>\n",
              "        <td>45.1</td>\n",
              "        <td>63.3</td>\n",
              "        <td>19</td>\n",
              "    </tr>\n",
              "    <tr>\n",
              "        <td>Bomet</td>\n",
              "        <td>26.3</td>\n",
              "        <td>39.5</td>\n",
              "        <td>20</td>\n",
              "    </tr>\n",
              "    <tr>\n",
              "        <td>Bungoma</td>\n",
              "        <td>27.8</td>\n",
              "        <td>37.6</td>\n",
              "        <td>20</td>\n",
              "    </tr>\n",
              "    <tr>\n",
              "        <td>Busia</td>\n",
              "        <td>40.7</td>\n",
              "        <td>42.8</td>\n",
              "        <td>20</td>\n",
              "    </tr>\n",
              "    <tr>\n",
              "        <td>Kiambu</td>\n",
              "        <td>14.5</td>\n",
              "        <td>22.8</td>\n",
              "        <td>20</td>\n",
              "    </tr>\n",
              "    <tr>\n",
              "        <td>Mandera</td>\n",
              "        <td>4.6</td>\n",
              "        <td>35.2</td>\n",
              "        <td>20</td>\n",
              "    </tr>\n",
              "    <tr>\n",
              "        <td>Wajir</td>\n",
              "        <td>18.3</td>\n",
              "        <td>54.8</td>\n",
              "        <td>21</td>\n",
              "    </tr>\n",
              "    <tr>\n",
              "        <td>Meru</td>\n",
              "        <td>24.0</td>\n",
              "        <td>42.6</td>\n",
              "        <td>22</td>\n",
              "    </tr>\n",
              "    <tr>\n",
              "        <td>Murang&#x27;a</td>\n",
              "        <td>11.4</td>\n",
              "        <td>36.2</td>\n",
              "        <td>22</td>\n",
              "    </tr>\n",
              "    <tr>\n",
              "        <td>Nyamira</td>\n",
              "        <td>40.9</td>\n",
              "        <td>38.9</td>\n",
              "        <td>22</td>\n",
              "    </tr>\n",
              "    <tr>\n",
              "        <td>Siaya</td>\n",
              "        <td>46.7</td>\n",
              "        <td>54.4</td>\n",
              "        <td>22</td>\n",
              "    </tr>\n",
              "    <tr>\n",
              "        <td>Kakamega</td>\n",
              "        <td>26.7</td>\n",
              "        <td>37.9</td>\n",
              "        <td>23</td>\n",
              "    </tr>\n",
              "    <tr>\n",
              "        <td>Migori</td>\n",
              "        <td>40.1</td>\n",
              "        <td>63.0</td>\n",
              "        <td>23</td>\n",
              "    </tr>\n",
              "    <tr>\n",
              "        <td>Nandi</td>\n",
              "        <td>18.9</td>\n",
              "        <td>50.9</td>\n",
              "        <td>23</td>\n",
              "    </tr>\n",
              "    <tr>\n",
              "        <td>Homa Bay</td>\n",
              "        <td>39.6</td>\n",
              "        <td>58.3</td>\n",
              "        <td>24</td>\n",
              "    </tr>\n",
              "    <tr>\n",
              "        <td>West Pokot</td>\n",
              "        <td>15.9</td>\n",
              "        <td>60.4</td>\n",
              "        <td>24</td>\n",
              "    </tr>\n",
              "</table>"
            ],
            "text/plain": [
              "[('Nairobi', 38.0, 37.7, 7),\n",
              " ('Narok', 12.9, 55.8, 7),\n",
              " ('Trans Nzoia', 23.0, 34.8, 8),\n",
              " ('Vihiga', 28.5, 33.4, 10),\n",
              " ('Kericho', 33.8, 51.6, 11),\n",
              " ('Mombasa', 50.6, 48.0, 11),\n",
              " ('Nakuru', 9.8, 0.0, 11),\n",
              " ('Uasin Gishu', 33.6, 43.4, 13),\n",
              " ('Turkana', 6.0, 55.4, 14),\n",
              " ('Kajiado', 30.4, 12.3, 15),\n",
              " ('Makueni', 10.8, 51.1, 15),\n",
              " ('Machakos', 31.7, 40.9, 16),\n",
              " ('Nyandarua', 1.7, 14.4, 17),\n",
              " ('Kirinyaga', 30.0, 43.2, 18),\n",
              " ('Tharaka Nithi', 41.3, 33.8, 18),\n",
              " ('Tana River', 45.1, 63.3, 19),\n",
              " ('Bomet', 26.3, 39.5, 20),\n",
              " ('Bungoma', 27.8, 37.6, 20),\n",
              " ('Busia', 40.7, 42.8, 20),\n",
              " ('Kiambu', 14.5, 22.8, 20),\n",
              " ('Mandera', 4.6, 35.2, 20),\n",
              " ('Wajir', 18.3, 54.8, 21),\n",
              " ('Meru', 24.0, 42.6, 22),\n",
              " (\"Murang'a\", 11.4, 36.2, 22),\n",
              " ('Nyamira', 40.9, 38.9, 22),\n",
              " ('Siaya', 46.7, 54.4, 22),\n",
              " ('Kakamega', 26.7, 37.9, 23),\n",
              " ('Migori', 40.1, 63.0, 23),\n",
              " ('Nandi', 18.9, 50.9, 23),\n",
              " ('Homa Bay', 39.6, 58.3, 24),\n",
              " ('West Pokot', 15.9, 60.4, 24)]"
            ]
          },
          "metadata": {
            "tags": []
          },
          "execution_count": 44
        }
      ]
    },
    {
      "cell_type": "code",
      "metadata": {
        "id": "LRz40aaSXgBp",
        "colab_type": "code",
        "outputId": "065c5c81-4f2d-47d5-8daf-e9a5d6c68c67",
        "colab": {
          "base_uri": "https://localhost:8080/",
          "height": 410
        }
      },
      "source": [
        "## Counties that spend above the average of health spending in Kenya.\n",
        "## \n",
        "%%sql\n",
        "SELECT county, pct_that_slept_under_a_bed_net, pct_that_had_a_fever_or_malaria, health_spending_per_person\n",
        "FROM counties \n",
        "WHERE health_spending_per_person > (SELECT AVG(health_spending_per_person) FROM counties)\n",
        "ORDER BY health_spending_per_person DESC;"
      ],
      "execution_count": 0,
      "outputs": [
        {
          "output_type": "stream",
          "text": [
            " * sqlite://\n",
            "Done.\n"
          ],
          "name": "stdout"
        },
        {
          "output_type": "execute_result",
          "data": {
            "text/html": [
              "<table>\n",
              "    <tr>\n",
              "        <th>county</th>\n",
              "        <th>pct_that_slept_under_a_bed_net</th>\n",
              "        <th>pct_that_had_a_fever_or_malaria</th>\n",
              "        <th>health_spending_per_person</th>\n",
              "    </tr>\n",
              "    <tr>\n",
              "        <td>Lamu</td>\n",
              "        <td>51.3</td>\n",
              "        <td>63.3</td>\n",
              "        <td>50</td>\n",
              "    </tr>\n",
              "    <tr>\n",
              "        <td>Elgeyo/Marakwet</td>\n",
              "        <td>7.5</td>\n",
              "        <td>9.4</td>\n",
              "        <td>48</td>\n",
              "    </tr>\n",
              "    <tr>\n",
              "        <td>Taita Taveta</td>\n",
              "        <td>30.8</td>\n",
              "        <td>48.8</td>\n",
              "        <td>48</td>\n",
              "    </tr>\n",
              "    <tr>\n",
              "        <td>Kitui</td>\n",
              "        <td>13.0</td>\n",
              "        <td>50.5</td>\n",
              "        <td>46</td>\n",
              "    </tr>\n",
              "    <tr>\n",
              "        <td>Marsabit</td>\n",
              "        <td>11.1</td>\n",
              "        <td>44.0</td>\n",
              "        <td>46</td>\n",
              "    </tr>\n",
              "    <tr>\n",
              "        <td>Isiolo</td>\n",
              "        <td>42.6</td>\n",
              "        <td>33.7</td>\n",
              "        <td>42</td>\n",
              "    </tr>\n",
              "    <tr>\n",
              "        <td>Nyeri</td>\n",
              "        <td>5.7</td>\n",
              "        <td>13.4</td>\n",
              "        <td>39</td>\n",
              "    </tr>\n",
              "    <tr>\n",
              "        <td>Garissa</td>\n",
              "        <td>38.4</td>\n",
              "        <td>46.6</td>\n",
              "        <td>37</td>\n",
              "    </tr>\n",
              "    <tr>\n",
              "        <td>Embu</td>\n",
              "        <td>21.8</td>\n",
              "        <td>39.8</td>\n",
              "        <td>34</td>\n",
              "    </tr>\n",
              "    <tr>\n",
              "        <td>Samburu</td>\n",
              "        <td>3.2</td>\n",
              "        <td>37.1</td>\n",
              "        <td>34</td>\n",
              "    </tr>\n",
              "    <tr>\n",
              "        <td>Kwale</td>\n",
              "        <td>32.1</td>\n",
              "        <td>37.7</td>\n",
              "        <td>31</td>\n",
              "    </tr>\n",
              "    <tr>\n",
              "        <td>Baringo</td>\n",
              "        <td>24.2</td>\n",
              "        <td>14.9</td>\n",
              "        <td>29</td>\n",
              "    </tr>\n",
              "    <tr>\n",
              "        <td>Kisumu</td>\n",
              "        <td>62.4</td>\n",
              "        <td>45.6</td>\n",
              "        <td>29</td>\n",
              "    </tr>\n",
              "    <tr>\n",
              "        <td>Laikipia</td>\n",
              "        <td>12.3</td>\n",
              "        <td>14.9</td>\n",
              "        <td>29</td>\n",
              "    </tr>\n",
              "    <tr>\n",
              "        <td>Kilifi</td>\n",
              "        <td>38.5</td>\n",
              "        <td>45.4</td>\n",
              "        <td>26</td>\n",
              "    </tr>\n",
              "    <tr>\n",
              "        <td>Kisii</td>\n",
              "        <td>37.8</td>\n",
              "        <td>49.0</td>\n",
              "        <td>26</td>\n",
              "    </tr>\n",
              "</table>"
            ],
            "text/plain": [
              "[('Lamu', 51.3, 63.3, 50),\n",
              " ('Elgeyo/Marakwet', 7.5, 9.4, 48),\n",
              " ('Taita Taveta', 30.8, 48.8, 48),\n",
              " ('Kitui', 13.0, 50.5, 46),\n",
              " ('Marsabit', 11.1, 44.0, 46),\n",
              " ('Isiolo', 42.6, 33.7, 42),\n",
              " ('Nyeri', 5.7, 13.4, 39),\n",
              " ('Garissa', 38.4, 46.6, 37),\n",
              " ('Embu', 21.8, 39.8, 34),\n",
              " ('Samburu', 3.2, 37.1, 34),\n",
              " ('Kwale', 32.1, 37.7, 31),\n",
              " ('Baringo', 24.2, 14.9, 29),\n",
              " ('Kisumu', 62.4, 45.6, 29),\n",
              " ('Laikipia', 12.3, 14.9, 29),\n",
              " ('Kilifi', 38.5, 45.4, 26),\n",
              " ('Kisii', 37.8, 49.0, 26)]"
            ]
          },
          "metadata": {
            "tags": []
          },
          "execution_count": 45
        }
      ]
    },
    {
      "cell_type": "code",
      "metadata": {
        "id": "aie5x8hHzpPv",
        "colab_type": "code",
        "outputId": "38a20743-39f5-42d9-b01c-7e8d71b2d28c",
        "colab": {
          "base_uri": "https://localhost:8080/",
          "height": 1000
        }
      },
      "source": [
        "%%sql\n",
        "SELECT * \n",
        "FROM counties"
      ],
      "execution_count": 0,
      "outputs": [
        {
          "output_type": "stream",
          "text": [
            " * sqlite://\n",
            "Done.\n"
          ],
          "name": "stdout"
        },
        {
          "output_type": "execute_result",
          "data": {
            "text/html": [
              "<table>\n",
              "    <tr>\n",
              "        <th>index</th>\n",
              "        <th>county</th>\n",
              "        <th>pct_that_slept_under_a_bed_net</th>\n",
              "        <th>pct_that_had_a_fever_or_malaria</th>\n",
              "        <th>health_spending_per_person</th>\n",
              "    </tr>\n",
              "    <tr>\n",
              "        <td>0</td>\n",
              "        <td>Baringo</td>\n",
              "        <td>24.2</td>\n",
              "        <td>14.9</td>\n",
              "        <td>29</td>\n",
              "    </tr>\n",
              "    <tr>\n",
              "        <td>1</td>\n",
              "        <td>Bomet</td>\n",
              "        <td>26.3</td>\n",
              "        <td>39.5</td>\n",
              "        <td>20</td>\n",
              "    </tr>\n",
              "    <tr>\n",
              "        <td>2</td>\n",
              "        <td>Bungoma</td>\n",
              "        <td>27.8</td>\n",
              "        <td>37.6</td>\n",
              "        <td>20</td>\n",
              "    </tr>\n",
              "    <tr>\n",
              "        <td>3</td>\n",
              "        <td>Busia</td>\n",
              "        <td>40.7</td>\n",
              "        <td>42.8</td>\n",
              "        <td>20</td>\n",
              "    </tr>\n",
              "    <tr>\n",
              "        <td>4</td>\n",
              "        <td>Elgeyo/Marakwet</td>\n",
              "        <td>7.5</td>\n",
              "        <td>9.4</td>\n",
              "        <td>48</td>\n",
              "    </tr>\n",
              "    <tr>\n",
              "        <td>5</td>\n",
              "        <td>Embu</td>\n",
              "        <td>21.8</td>\n",
              "        <td>39.8</td>\n",
              "        <td>34</td>\n",
              "    </tr>\n",
              "    <tr>\n",
              "        <td>6</td>\n",
              "        <td>Garissa</td>\n",
              "        <td>38.4</td>\n",
              "        <td>46.6</td>\n",
              "        <td>37</td>\n",
              "    </tr>\n",
              "    <tr>\n",
              "        <td>7</td>\n",
              "        <td>Homa Bay</td>\n",
              "        <td>39.6</td>\n",
              "        <td>58.3</td>\n",
              "        <td>24</td>\n",
              "    </tr>\n",
              "    <tr>\n",
              "        <td>8</td>\n",
              "        <td>Isiolo</td>\n",
              "        <td>42.6</td>\n",
              "        <td>33.7</td>\n",
              "        <td>42</td>\n",
              "    </tr>\n",
              "    <tr>\n",
              "        <td>9</td>\n",
              "        <td>Kajiado</td>\n",
              "        <td>30.4</td>\n",
              "        <td>12.3</td>\n",
              "        <td>15</td>\n",
              "    </tr>\n",
              "    <tr>\n",
              "        <td>10</td>\n",
              "        <td>Kakamega</td>\n",
              "        <td>26.7</td>\n",
              "        <td>37.9</td>\n",
              "        <td>23</td>\n",
              "    </tr>\n",
              "    <tr>\n",
              "        <td>11</td>\n",
              "        <td>Kericho</td>\n",
              "        <td>33.8</td>\n",
              "        <td>51.6</td>\n",
              "        <td>11</td>\n",
              "    </tr>\n",
              "    <tr>\n",
              "        <td>12</td>\n",
              "        <td>Kiambu</td>\n",
              "        <td>14.5</td>\n",
              "        <td>22.8</td>\n",
              "        <td>20</td>\n",
              "    </tr>\n",
              "    <tr>\n",
              "        <td>13</td>\n",
              "        <td>Kilifi</td>\n",
              "        <td>38.5</td>\n",
              "        <td>45.4</td>\n",
              "        <td>26</td>\n",
              "    </tr>\n",
              "    <tr>\n",
              "        <td>14</td>\n",
              "        <td>Kirinyaga</td>\n",
              "        <td>30.0</td>\n",
              "        <td>43.2</td>\n",
              "        <td>18</td>\n",
              "    </tr>\n",
              "    <tr>\n",
              "        <td>15</td>\n",
              "        <td>Kisii</td>\n",
              "        <td>37.8</td>\n",
              "        <td>49.0</td>\n",
              "        <td>26</td>\n",
              "    </tr>\n",
              "    <tr>\n",
              "        <td>16</td>\n",
              "        <td>Kisumu</td>\n",
              "        <td>62.4</td>\n",
              "        <td>45.6</td>\n",
              "        <td>29</td>\n",
              "    </tr>\n",
              "    <tr>\n",
              "        <td>17</td>\n",
              "        <td>Kitui</td>\n",
              "        <td>13.0</td>\n",
              "        <td>50.5</td>\n",
              "        <td>46</td>\n",
              "    </tr>\n",
              "    <tr>\n",
              "        <td>18</td>\n",
              "        <td>Kwale</td>\n",
              "        <td>32.1</td>\n",
              "        <td>37.7</td>\n",
              "        <td>31</td>\n",
              "    </tr>\n",
              "    <tr>\n",
              "        <td>19</td>\n",
              "        <td>Laikipia</td>\n",
              "        <td>12.3</td>\n",
              "        <td>14.9</td>\n",
              "        <td>29</td>\n",
              "    </tr>\n",
              "    <tr>\n",
              "        <td>20</td>\n",
              "        <td>Lamu</td>\n",
              "        <td>51.3</td>\n",
              "        <td>63.3</td>\n",
              "        <td>50</td>\n",
              "    </tr>\n",
              "    <tr>\n",
              "        <td>21</td>\n",
              "        <td>Machakos</td>\n",
              "        <td>31.7</td>\n",
              "        <td>40.9</td>\n",
              "        <td>16</td>\n",
              "    </tr>\n",
              "    <tr>\n",
              "        <td>22</td>\n",
              "        <td>Makueni</td>\n",
              "        <td>10.8</td>\n",
              "        <td>51.1</td>\n",
              "        <td>15</td>\n",
              "    </tr>\n",
              "    <tr>\n",
              "        <td>23</td>\n",
              "        <td>Mandera</td>\n",
              "        <td>4.6</td>\n",
              "        <td>35.2</td>\n",
              "        <td>20</td>\n",
              "    </tr>\n",
              "    <tr>\n",
              "        <td>24</td>\n",
              "        <td>Marsabit</td>\n",
              "        <td>11.1</td>\n",
              "        <td>44.0</td>\n",
              "        <td>46</td>\n",
              "    </tr>\n",
              "    <tr>\n",
              "        <td>25</td>\n",
              "        <td>Meru</td>\n",
              "        <td>24.0</td>\n",
              "        <td>42.6</td>\n",
              "        <td>22</td>\n",
              "    </tr>\n",
              "    <tr>\n",
              "        <td>26</td>\n",
              "        <td>Migori</td>\n",
              "        <td>40.1</td>\n",
              "        <td>63.0</td>\n",
              "        <td>23</td>\n",
              "    </tr>\n",
              "    <tr>\n",
              "        <td>27</td>\n",
              "        <td>Mombasa</td>\n",
              "        <td>50.6</td>\n",
              "        <td>48.0</td>\n",
              "        <td>11</td>\n",
              "    </tr>\n",
              "    <tr>\n",
              "        <td>28</td>\n",
              "        <td>Murang&#x27;a</td>\n",
              "        <td>11.4</td>\n",
              "        <td>36.2</td>\n",
              "        <td>22</td>\n",
              "    </tr>\n",
              "    <tr>\n",
              "        <td>29</td>\n",
              "        <td>Nairobi</td>\n",
              "        <td>38.0</td>\n",
              "        <td>37.7</td>\n",
              "        <td>7</td>\n",
              "    </tr>\n",
              "    <tr>\n",
              "        <td>30</td>\n",
              "        <td>Nakuru</td>\n",
              "        <td>9.8</td>\n",
              "        <td>0.0</td>\n",
              "        <td>11</td>\n",
              "    </tr>\n",
              "    <tr>\n",
              "        <td>31</td>\n",
              "        <td>Nandi</td>\n",
              "        <td>18.9</td>\n",
              "        <td>50.9</td>\n",
              "        <td>23</td>\n",
              "    </tr>\n",
              "    <tr>\n",
              "        <td>32</td>\n",
              "        <td>Narok</td>\n",
              "        <td>12.9</td>\n",
              "        <td>55.8</td>\n",
              "        <td>7</td>\n",
              "    </tr>\n",
              "    <tr>\n",
              "        <td>33</td>\n",
              "        <td>Nyamira</td>\n",
              "        <td>40.9</td>\n",
              "        <td>38.9</td>\n",
              "        <td>22</td>\n",
              "    </tr>\n",
              "    <tr>\n",
              "        <td>34</td>\n",
              "        <td>Nyandarua</td>\n",
              "        <td>1.7</td>\n",
              "        <td>14.4</td>\n",
              "        <td>17</td>\n",
              "    </tr>\n",
              "    <tr>\n",
              "        <td>35</td>\n",
              "        <td>Nyeri</td>\n",
              "        <td>5.7</td>\n",
              "        <td>13.4</td>\n",
              "        <td>39</td>\n",
              "    </tr>\n",
              "    <tr>\n",
              "        <td>36</td>\n",
              "        <td>Samburu</td>\n",
              "        <td>3.2</td>\n",
              "        <td>37.1</td>\n",
              "        <td>34</td>\n",
              "    </tr>\n",
              "    <tr>\n",
              "        <td>37</td>\n",
              "        <td>Siaya</td>\n",
              "        <td>46.7</td>\n",
              "        <td>54.4</td>\n",
              "        <td>22</td>\n",
              "    </tr>\n",
              "    <tr>\n",
              "        <td>38</td>\n",
              "        <td>Taita Taveta</td>\n",
              "        <td>30.8</td>\n",
              "        <td>48.8</td>\n",
              "        <td>48</td>\n",
              "    </tr>\n",
              "    <tr>\n",
              "        <td>39</td>\n",
              "        <td>Tana River</td>\n",
              "        <td>45.1</td>\n",
              "        <td>63.3</td>\n",
              "        <td>19</td>\n",
              "    </tr>\n",
              "    <tr>\n",
              "        <td>40</td>\n",
              "        <td>Tharaka Nithi</td>\n",
              "        <td>41.3</td>\n",
              "        <td>33.8</td>\n",
              "        <td>18</td>\n",
              "    </tr>\n",
              "    <tr>\n",
              "        <td>41</td>\n",
              "        <td>Trans Nzoia</td>\n",
              "        <td>23.0</td>\n",
              "        <td>34.8</td>\n",
              "        <td>8</td>\n",
              "    </tr>\n",
              "    <tr>\n",
              "        <td>42</td>\n",
              "        <td>Turkana</td>\n",
              "        <td>6.0</td>\n",
              "        <td>55.4</td>\n",
              "        <td>14</td>\n",
              "    </tr>\n",
              "    <tr>\n",
              "        <td>43</td>\n",
              "        <td>Uasin Gishu</td>\n",
              "        <td>33.6</td>\n",
              "        <td>43.4</td>\n",
              "        <td>13</td>\n",
              "    </tr>\n",
              "    <tr>\n",
              "        <td>44</td>\n",
              "        <td>Vihiga</td>\n",
              "        <td>28.5</td>\n",
              "        <td>33.4</td>\n",
              "        <td>10</td>\n",
              "    </tr>\n",
              "    <tr>\n",
              "        <td>45</td>\n",
              "        <td>Wajir</td>\n",
              "        <td>18.3</td>\n",
              "        <td>54.8</td>\n",
              "        <td>21</td>\n",
              "    </tr>\n",
              "    <tr>\n",
              "        <td>46</td>\n",
              "        <td>West Pokot</td>\n",
              "        <td>15.9</td>\n",
              "        <td>60.4</td>\n",
              "        <td>24</td>\n",
              "    </tr>\n",
              "</table>"
            ],
            "text/plain": [
              "[(0, 'Baringo', 24.2, 14.9, 29),\n",
              " (1, 'Bomet', 26.3, 39.5, 20),\n",
              " (2, 'Bungoma', 27.8, 37.6, 20),\n",
              " (3, 'Busia', 40.7, 42.8, 20),\n",
              " (4, 'Elgeyo/Marakwet', 7.5, 9.4, 48),\n",
              " (5, 'Embu', 21.8, 39.8, 34),\n",
              " (6, 'Garissa', 38.4, 46.6, 37),\n",
              " (7, 'Homa Bay', 39.6, 58.3, 24),\n",
              " (8, 'Isiolo', 42.6, 33.7, 42),\n",
              " (9, 'Kajiado', 30.4, 12.3, 15),\n",
              " (10, 'Kakamega', 26.7, 37.9, 23),\n",
              " (11, 'Kericho', 33.8, 51.6, 11),\n",
              " (12, 'Kiambu', 14.5, 22.8, 20),\n",
              " (13, 'Kilifi', 38.5, 45.4, 26),\n",
              " (14, 'Kirinyaga', 30.0, 43.2, 18),\n",
              " (15, 'Kisii', 37.8, 49.0, 26),\n",
              " (16, 'Kisumu', 62.4, 45.6, 29),\n",
              " (17, 'Kitui', 13.0, 50.5, 46),\n",
              " (18, 'Kwale', 32.1, 37.7, 31),\n",
              " (19, 'Laikipia', 12.3, 14.9, 29),\n",
              " (20, 'Lamu', 51.3, 63.3, 50),\n",
              " (21, 'Machakos', 31.7, 40.9, 16),\n",
              " (22, 'Makueni', 10.8, 51.1, 15),\n",
              " (23, 'Mandera', 4.6, 35.2, 20),\n",
              " (24, 'Marsabit', 11.1, 44.0, 46),\n",
              " (25, 'Meru', 24.0, 42.6, 22),\n",
              " (26, 'Migori', 40.1, 63.0, 23),\n",
              " (27, 'Mombasa', 50.6, 48.0, 11),\n",
              " (28, \"Murang'a\", 11.4, 36.2, 22),\n",
              " (29, 'Nairobi', 38.0, 37.7, 7),\n",
              " (30, 'Nakuru', 9.8, 0.0, 11),\n",
              " (31, 'Nandi', 18.9, 50.9, 23),\n",
              " (32, 'Narok', 12.9, 55.8, 7),\n",
              " (33, 'Nyamira', 40.9, 38.9, 22),\n",
              " (34, 'Nyandarua', 1.7, 14.4, 17),\n",
              " (35, 'Nyeri', 5.7, 13.4, 39),\n",
              " (36, 'Samburu', 3.2, 37.1, 34),\n",
              " (37, 'Siaya', 46.7, 54.4, 22),\n",
              " (38, 'Taita Taveta', 30.8, 48.8, 48),\n",
              " (39, 'Tana River', 45.1, 63.3, 19),\n",
              " (40, 'Tharaka Nithi', 41.3, 33.8, 18),\n",
              " (41, 'Trans Nzoia', 23.0, 34.8, 8),\n",
              " (42, 'Turkana', 6.0, 55.4, 14),\n",
              " (43, 'Uasin Gishu', 33.6, 43.4, 13),\n",
              " (44, 'Vihiga', 28.5, 33.4, 10),\n",
              " (45, 'Wajir', 18.3, 54.8, 21),\n",
              " (46, 'West Pokot', 15.9, 60.4, 24)]"
            ]
          },
          "metadata": {
            "tags": []
          },
          "execution_count": 41
        },
        {
          "output_type": "stream",
          "text": [
            "ERROR! Session/line number was not unique in database. History logging moved to new session 59\n"
          ],
          "name": "stdout"
        }
      ]
    },
    {
      "cell_type": "code",
      "metadata": {
        "id": "H4wBQMA6zs1X",
        "colab_type": "code",
        "colab": {}
      },
      "source": [
        ""
      ],
      "execution_count": 0,
      "outputs": []
    }
  ]
}